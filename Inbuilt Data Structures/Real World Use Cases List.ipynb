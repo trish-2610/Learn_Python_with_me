{
 "cells": [
  {
   "cell_type": "code",
   "execution_count": 3,
   "metadata": {},
   "outputs": [
    {
     "name": "stdout",
     "output_type": "stream",
     "text": [
      "remember to purchase groceries\n",
      "-purchase groceries\n",
      "-running\n"
     ]
    }
   ],
   "source": [
    "## manage a to do list\n",
    "list = [\"purchase groceries\" , \"pay bills\"]\n",
    "\n",
    "## add \n",
    "list.append(\"running\")\n",
    "\n",
    "## completed task to remove \n",
    "list.remove(\"pay bills\")\n",
    "\n",
    "## check a task in list \n",
    "if \"purchase groceries\" in list:\n",
    "    print(\"remember to purchase groceries\")\n",
    "\n",
    "for items in list:\n",
    "    print(f\"-{items}\")"
   ]
  },
  {
   "cell_type": "code",
   "execution_count": 4,
   "metadata": {},
   "outputs": [
    {
     "name": "stdout",
     "output_type": "stream",
     "text": [
      "highest = 87 , lowest = 12 , average = 46.4\n"
     ]
    }
   ],
   "source": [
    "## Organizing student grades \n",
    "grades = [12,34,56,43]\n",
    "grades.append(87)\n",
    "avg = sum(grades) / len(grades)\n",
    "highest = max(grades)\n",
    "lowest = min(grades)\n",
    "print(f\"highest = {highest} , lowest = {lowest} , average = {avg}\")"
   ]
  },
  {
   "cell_type": "code",
   "execution_count": null,
   "metadata": {},
   "outputs": [],
   "source": [
    "## managing an inventory \n",
    "##  analyzing user feedback "
   ]
  }
 ],
 "metadata": {
  "kernelspec": {
   "display_name": "base",
   "language": "python",
   "name": "python3"
  },
  "language_info": {
   "codemirror_mode": {
    "name": "ipython",
    "version": 3
   },
   "file_extension": ".py",
   "mimetype": "text/x-python",
   "name": "python",
   "nbconvert_exporter": "python",
   "pygments_lexer": "ipython3",
   "version": "3.11.4"
  }
 },
 "nbformat": 4,
 "nbformat_minor": 2
}
