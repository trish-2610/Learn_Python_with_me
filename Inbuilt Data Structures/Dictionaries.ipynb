{
 "cells": [
  {
   "cell_type": "code",
   "execution_count": 1,
   "metadata": {},
   "outputs": [
    {
     "name": "stdout",
     "output_type": "stream",
     "text": [
      "{} <class 'dict'>\n"
     ]
    }
   ],
   "source": [
    "## Dictionaries - unordered key - value pair , mutable\n",
    "name = {}\n",
    "print(name,type(name))"
   ]
  },
  {
   "cell_type": "code",
   "execution_count": 2,
   "metadata": {},
   "outputs": [
    {
     "name": "stdout",
     "output_type": "stream",
     "text": [
      "<class 'dict'>\n"
     ]
    }
   ],
   "source": [
    "name = dict()\n",
    "print(type(name))"
   ]
  },
  {
   "cell_type": "code",
   "execution_count": 4,
   "metadata": {},
   "outputs": [
    {
     "name": "stdout",
     "output_type": "stream",
     "text": [
      "{'name': 'Trishansh', 'age': 19, 'grade': 'O'}\n"
     ]
    }
   ],
   "source": [
    "student = {\"name\":\"Trishansh\" , \"age\":19 , \"grade\" : \"O\"}\n",
    "print(student)"
   ]
  },
  {
   "cell_type": "code",
   "execution_count": 5,
   "metadata": {},
   "outputs": [
    {
     "name": "stdout",
     "output_type": "stream",
     "text": [
      "{'color': 'red', 'name': 'Lotus'}\n"
     ]
    }
   ],
   "source": [
    "flower = {\"color\":\"red\" , \"name\":\"Lotus\"}\n",
    "print(flower)"
   ]
  },
  {
   "cell_type": "code",
   "execution_count": 6,
   "metadata": {},
   "outputs": [
    {
     "name": "stdout",
     "output_type": "stream",
     "text": [
      "{'name': 19, 'grade': 'O'}\n"
     ]
    }
   ],
   "source": [
    "student = {\"name\":\"Trishansh\" , \"name\":19 , \"grade\" : \"O\"}\n",
    "print(student)"
   ]
  },
  {
   "cell_type": "code",
   "execution_count": 7,
   "metadata": {},
   "outputs": [
    {
     "name": "stdout",
     "output_type": "stream",
     "text": [
      "{'color': 'Lotus'}\n"
     ]
    }
   ],
   "source": [
    "flower = {\"color\":\"red\" , \"color\":\"Lotus\"}\n",
    "print(flower)"
   ]
  },
  {
   "cell_type": "code",
   "execution_count": 11,
   "metadata": {},
   "outputs": [
    {
     "name": "stdout",
     "output_type": "stream",
     "text": [
      "red\n",
      "Lotus\n"
     ]
    }
   ],
   "source": [
    "## Accessing Dictionary elements \n",
    "flower = {\"color\":\"red\" , \"name\":\"Lotus\"}\n",
    "print(flower[\"color\"])\n",
    "print(flower[\"name\"])\n",
    "## print(flower[\"age\"]) ## KeyError: 'age'"
   ]
  },
  {
   "cell_type": "code",
   "execution_count": 12,
   "metadata": {},
   "outputs": [
    {
     "data": {
      "text/plain": [
       "'Lotus'"
      ]
     },
     "execution_count": 12,
     "metadata": {},
     "output_type": "execute_result"
    }
   ],
   "source": [
    "flower[\"name\"]"
   ]
  },
  {
   "cell_type": "code",
   "execution_count": 14,
   "metadata": {},
   "outputs": [],
   "source": [
    "## flower[\"first_name\"] -> key error"
   ]
  },
  {
   "cell_type": "code",
   "execution_count": 20,
   "metadata": {},
   "outputs": [
    {
     "name": "stdout",
     "output_type": "stream",
     "text": [
      "Trishansh\n",
      "19\n",
      "O\n",
      "None\n",
      "Not Available\n"
     ]
    }
   ],
   "source": [
    "## Accessing Dictionary elements using get method \n",
    "student = {\"name\":\"Trishansh\" , \"age\":19 , \"grade\" : \"O\"}\n",
    "print(student.get(\"name\"))\n",
    "print(student.get(\"age\"))\n",
    "print(student.get(\"grade\"))\n",
    "print(student.get(\"color\")) ## None \n",
    "print(student.get(\"number\",\"Not Available\")) ## default value "
   ]
  },
  {
   "cell_type": "code",
   "execution_count": 23,
   "metadata": {},
   "outputs": [
    {
     "name": "stdout",
     "output_type": "stream",
     "text": [
      "{'name': 'Trishansh', 'age': 19, 'grade': 'O'}\n",
      "{'name': 'Krish', 'age': 32, 'grade': 'B'}\n"
     ]
    }
   ],
   "source": [
    "## Modifying dictionary \n",
    "\n",
    "student = {\"name\":\"Trishansh\" , \"age\":19 , \"grade\" : \"O\"}\n",
    "print(student)\n",
    "\n",
    "## update \n",
    "student[\"name\"] = \"Krish\"\n",
    "student[\"age\"] = 32\n",
    "student[\"grade\"] = \"B\"\n",
    "print(student)"
   ]
  },
  {
   "cell_type": "code",
   "execution_count": 27,
   "metadata": {},
   "outputs": [
    {
     "name": "stdout",
     "output_type": "stream",
     "text": [
      "{'name': 'Krish', 'age': 32, 'grade': 'B', 'address': 'RNTH', 'marks': 97}\n",
      "{'name': 'Krish', 'age': 32, 'grade': 'B', 'address': 'RNTH', 'marks': 97}\n"
     ]
    }
   ],
   "source": [
    "## Insert \n",
    "student[\"address\"] = \"RNTH\"\n",
    "print(student)\n",
    "student[\"marks\"] = 97\n",
    "print(student)"
   ]
  },
  {
   "cell_type": "code",
   "execution_count": 28,
   "metadata": {},
   "outputs": [],
   "source": [
    "## delete \n",
    "del student[\"address\"]"
   ]
  },
  {
   "cell_type": "code",
   "execution_count": 29,
   "metadata": {},
   "outputs": [
    {
     "data": {
      "text/plain": [
       "{'name': 'Krish', 'age': 32, 'grade': 'B', 'marks': 97}"
      ]
     },
     "execution_count": 29,
     "metadata": {},
     "output_type": "execute_result"
    }
   ],
   "source": [
    "student"
   ]
  },
  {
   "cell_type": "code",
   "execution_count": 30,
   "metadata": {},
   "outputs": [
    {
     "data": {
      "text/plain": [
       "{'name': 'Krish', 'age': 32, 'marks': 97}"
      ]
     },
     "execution_count": 30,
     "metadata": {},
     "output_type": "execute_result"
    }
   ],
   "source": [
    "del student[\"grade\"]\n",
    "student"
   ]
  },
  {
   "cell_type": "code",
   "execution_count": 34,
   "metadata": {},
   "outputs": [
    {
     "name": "stdout",
     "output_type": "stream",
     "text": [
      "dict_keys(['name', 'age', 'grade'])\n",
      "dict_values(['Trishansh', 19, 'O'])\n",
      "dict_items([('name', 'Trishansh'), ('age', 19), ('grade', 'O')])\n"
     ]
    }
   ],
   "source": [
    "## Dictionary Methods \n",
    "student = {\"name\":\"Trishansh\" , \"age\":19 , \"grade\" : \"O\"}\n",
    "keys = student.keys()\n",
    "print(keys)\n",
    "values = student.values()\n",
    "print(values)\n",
    "items = student.items()\n",
    "print(items)"
   ]
  },
  {
   "cell_type": "code",
   "execution_count": 35,
   "metadata": {},
   "outputs": [
    {
     "name": "stdout",
     "output_type": "stream",
     "text": [
      "dict_keys(['color', 'name'])\n",
      "dict_values(['red', 'Lotus'])\n",
      "dict_items([('color', 'red'), ('name', 'Lotus')])\n"
     ]
    }
   ],
   "source": [
    "flower = {\"color\":\"red\" , \"name\":\"Lotus\"}\n",
    "keys = flower.keys()\n",
    "print(keys)\n",
    "val = flower.values()\n",
    "print(val)\n",
    "item = flower.items()\n",
    "print(item)\n"
   ]
  },
  {
   "cell_type": "code",
   "execution_count": 45,
   "metadata": {},
   "outputs": [
    {
     "name": "stdout",
     "output_type": "stream",
     "text": [
      "['name', 'Trishansh', 'age', 19, 'grade', 'O']\n"
     ]
    }
   ],
   "source": [
    "a = [('name', 'Trishansh'), ('age', 19), ('grade', 'O')]\n",
    "b = [j for i in a for j in i ]\n",
    "print(b)"
   ]
  },
  {
   "cell_type": "code",
   "execution_count": 42,
   "metadata": {},
   "outputs": [
    {
     "name": "stdout",
     "output_type": "stream",
     "text": [
      "name Trishansh \n",
      "age 19 \n",
      "grade O \n"
     ]
    }
   ],
   "source": [
    "for i in a :\n",
    "    for j in i :\n",
    "       print(j,end=\" \")\n",
    "    print()"
   ]
  },
  {
   "cell_type": "code",
   "execution_count": 46,
   "metadata": {},
   "outputs": [
    {
     "name": "stdout",
     "output_type": "stream",
     "text": [
      "{'name': 'Trishansh', 'age': 19, 'grade': 'O'}\n",
      "{'name': 'Trishansh', 'age': 19, 'grade': 'O'}\n"
     ]
    }
   ],
   "source": [
    "## shallow copy \n",
    "student = {\"name\":\"Trishansh\" , \"age\":19 , \"grade\" : \"O\"}\n",
    "student_copy = student\n",
    "print(student)\n",
    "print(student_copy)"
   ]
  },
  {
   "cell_type": "code",
   "execution_count": 47,
   "metadata": {},
   "outputs": [
    {
     "name": "stdout",
     "output_type": "stream",
     "text": [
      "{'name': 'Rohan', 'age': 19, 'grade': 'O'}\n",
      "{'name': 'Rohan', 'age': 19, 'grade': 'O'}\n"
     ]
    }
   ],
   "source": [
    "student[\"name\"]=\"Rohan\"\n",
    "print(student)\n",
    "print(student_copy)\n"
   ]
  },
  {
   "cell_type": "code",
   "execution_count": 48,
   "metadata": {},
   "outputs": [
    {
     "name": "stdout",
     "output_type": "stream",
     "text": [
      "{'color': 'red', 'name': 'Lotus'}\n",
      "{'color': 'red', 'name': 'Lotus'}\n"
     ]
    }
   ],
   "source": [
    "flower = {\"color\":\"red\" , \"name\":\"Lotus\"}\n",
    "flower_copy = flower \n",
    "print(flower)\n",
    "print(flower_copy)"
   ]
  },
  {
   "cell_type": "code",
   "execution_count": 49,
   "metadata": {},
   "outputs": [
    {
     "name": "stdout",
     "output_type": "stream",
     "text": [
      "{'color': 'pink', 'name': 'Lotus'}\n",
      "{'color': 'pink', 'name': 'Lotus'}\n"
     ]
    }
   ],
   "source": [
    "flower[\"color\"] = \"pink\"\n",
    "print(flower)\n",
    "print(flower_copy)"
   ]
  },
  {
   "cell_type": "code",
   "execution_count": 50,
   "metadata": {},
   "outputs": [
    {
     "name": "stdout",
     "output_type": "stream",
     "text": [
      "{'name': 'Rohan', 'age': 19, 'grade': 'O'}\n",
      "{'name': 'Rohan', 'age': 19, 'grade': 'O'}\n"
     ]
    }
   ],
   "source": [
    "## copy() - new memory allocation\n",
    "student_copy = student.copy()\n",
    "print(student)\n",
    "print(student_copy)\n",
    "\n"
   ]
  },
  {
   "cell_type": "code",
   "execution_count": 51,
   "metadata": {},
   "outputs": [
    {
     "name": "stdout",
     "output_type": "stream",
     "text": [
      "{'name': 'Rohn', 'age': 19, 'grade': 'O'}\n",
      "{'name': 'Rohan', 'age': 19, 'grade': 'O'}\n"
     ]
    }
   ],
   "source": [
    "student[\"name\"]=\"Rohn\"\n",
    "print(student)\n",
    "print(student_copy)\n"
   ]
  },
  {
   "cell_type": "code",
   "execution_count": 52,
   "metadata": {},
   "outputs": [
    {
     "name": "stdout",
     "output_type": "stream",
     "text": [
      "{'color': 'pink', 'name': 'Lotus'}\n",
      "{'color': 'pink', 'name': 'Lotus'}\n"
     ]
    }
   ],
   "source": [
    "copy = flower.copy()\n",
    "print(flower)\n",
    "print(copy)\n"
   ]
  },
  {
   "cell_type": "code",
   "execution_count": 53,
   "metadata": {},
   "outputs": [
    {
     "name": "stdout",
     "output_type": "stream",
     "text": [
      "{'color': 'hot pink', 'name': 'Lotus'}\n",
      "{'color': 'pink', 'name': 'Lotus'}\n"
     ]
    }
   ],
   "source": [
    "flower[\"color\"] =\"hot pink\"\n",
    "print(flower)\n",
    "print(copy)\n"
   ]
  },
  {
   "cell_type": "code",
   "execution_count": 54,
   "metadata": {},
   "outputs": [
    {
     "name": "stdout",
     "output_type": "stream",
     "text": [
      "name\n",
      "age\n",
      "grade\n"
     ]
    }
   ],
   "source": [
    "## Iterating over dictionary \n",
    "student = {\"name\":\"Trishansh\" , \"age\":19 , \"grade\" : \"O\"}\n",
    "\n",
    "## Iterating over keys \n",
    "for keys in student.keys():\n",
    "    print(keys)"
   ]
  },
  {
   "cell_type": "code",
   "execution_count": 55,
   "metadata": {},
   "outputs": [
    {
     "name": "stdout",
     "output_type": "stream",
     "text": [
      "Trishansh\n",
      "19\n",
      "O\n"
     ]
    }
   ],
   "source": [
    "## Iterating over values \n",
    "for values in student.values():\n",
    "    print(values)"
   ]
  },
  {
   "cell_type": "code",
   "execution_count": 56,
   "metadata": {},
   "outputs": [
    {
     "name": "stdout",
     "output_type": "stream",
     "text": [
      "name : Trishansh\n",
      "age : 19\n",
      "grade : O\n"
     ]
    }
   ],
   "source": [
    "## Iterating over key value pair \n",
    "for keys,values in student.items():\n",
    "    print(f\"{keys} : {values}\")"
   ]
  },
  {
   "cell_type": "code",
   "execution_count": 58,
   "metadata": {},
   "outputs": [
    {
     "name": "stdout",
     "output_type": "stream",
     "text": [
      "color\n",
      "name\n"
     ]
    }
   ],
   "source": [
    "flower = {\"color\":\"red\" , \"name\":\"Lotus\"}\n",
    "for i in flower.keys():\n",
    "    print(i)"
   ]
  },
  {
   "cell_type": "code",
   "execution_count": 59,
   "metadata": {},
   "outputs": [
    {
     "name": "stdout",
     "output_type": "stream",
     "text": [
      "red\n",
      "Lotus\n"
     ]
    }
   ],
   "source": [
    "for j in flower.values():\n",
    "    print(j)"
   ]
  },
  {
   "cell_type": "code",
   "execution_count": 62,
   "metadata": {},
   "outputs": [
    {
     "name": "stdout",
     "output_type": "stream",
     "text": [
      "color red\n",
      "name Lotus\n"
     ]
    }
   ],
   "source": [
    "for i,j in flower.items():\n",
    "    print(i,j)"
   ]
  },
  {
   "cell_type": "code",
   "execution_count": 63,
   "metadata": {},
   "outputs": [
    {
     "name": "stdout",
     "output_type": "stream",
     "text": [
      "{'student1': {'name': 'Trishansh', 'age': 19}, 'student2': {'name': 'krish', 'age': 32}}\n"
     ]
    }
   ],
   "source": [
    "## Nested Dictionaries \n",
    "student = {\n",
    "    \"student1\" : {\"name\":\"Trishansh\",\"age\":19},\n",
    "    \"student2\" :{\"name\":\"krish\",\"age\":32}\n",
    "}\n",
    "print(student)"
   ]
  },
  {
   "cell_type": "code",
   "execution_count": 64,
   "metadata": {},
   "outputs": [
    {
     "name": "stdout",
     "output_type": "stream",
     "text": [
      "Trishansh\n",
      "32\n"
     ]
    }
   ],
   "source": [
    "print(student[\"student1\"][\"name\"])\n",
    "print(student[\"student2\"][\"age\"])"
   ]
  },
  {
   "cell_type": "code",
   "execution_count": 65,
   "metadata": {},
   "outputs": [
    {
     "data": {
      "text/plain": [
       "{'book1': {'name': 'C++', 'pages': 200},\n",
       " 'book2': {'name': 'java', 'pages': 300}}"
      ]
     },
     "execution_count": 65,
     "metadata": {},
     "output_type": "execute_result"
    }
   ],
   "source": [
    "books = {\n",
    "    \"book1\" : {\"name\" : \"C++\" , \"pages\" : 200},\n",
    "    \"book2\" : {\"name\" :\"java\" , \"pages\" : 300}\n",
    "}\n",
    "books"
   ]
  },
  {
   "cell_type": "code",
   "execution_count": 66,
   "metadata": {},
   "outputs": [
    {
     "data": {
      "text/plain": [
       "200"
      ]
     },
     "execution_count": 66,
     "metadata": {},
     "output_type": "execute_result"
    }
   ],
   "source": [
    "books[\"book1\"][\"pages\"]"
   ]
  },
  {
   "cell_type": "code",
   "execution_count": 67,
   "metadata": {},
   "outputs": [
    {
     "data": {
      "text/plain": [
       "'java'"
      ]
     },
     "execution_count": 67,
     "metadata": {},
     "output_type": "execute_result"
    }
   ],
   "source": [
    "books[\"book2\"][\"name\"]"
   ]
  },
  {
   "cell_type": "code",
   "execution_count": 72,
   "metadata": {},
   "outputs": [
    {
     "name": "stdout",
     "output_type": "stream",
     "text": [
      "book1 name C++\n",
      "book1 pages 200\n",
      "book2 name java\n",
      "book2 pages 300\n"
     ]
    }
   ],
   "source": [
    "for keys,values in books.items():\n",
    "    for i,j in values.items():\n",
    "        print(keys,i,j)\n",
    "    "
   ]
  },
  {
   "cell_type": "code",
   "execution_count": 74,
   "metadata": {},
   "outputs": [
    {
     "name": "stdout",
     "output_type": "stream",
     "text": [
      "student1 : {'name': 'Trishansh', 'age': 19}\n",
      "name : Trishansh\n",
      "age : 19\n",
      "student2 : {'name': 'krish', 'age': 32}\n",
      "name : krish\n",
      "age : 32\n"
     ]
    }
   ],
   "source": [
    "student = {\n",
    "    \"student1\" : {\"name\":\"Trishansh\",\"age\":19},\n",
    "    \"student2\" :{\"name\":\"krish\",\"age\":32}\n",
    "}\n",
    "for student_id , student_info in student.items():\n",
    "    print(f\"{student_id} : {student_info}\")\n",
    "    for keys,values in student_info.items():\n",
    "        print(f\"{keys} : {values}\")"
   ]
  },
  {
   "cell_type": "code",
   "execution_count": 76,
   "metadata": {},
   "outputs": [
    {
     "name": "stdout",
     "output_type": "stream",
     "text": [
      "[0, 1, 2, 3, 4, 5]\n",
      "{0: 0, 1: 1, 2: 4, 3: 9, 4: 16, 5: 25}\n"
     ]
    }
   ],
   "source": [
    "## Dictionary Comprehension \n",
    "num = [i for i in range(6)]\n",
    "print(num)\n",
    "num1 = {x : x**2 for x in range(6)}\n",
    "print(num1)"
   ]
  },
  {
   "cell_type": "code",
   "execution_count": 77,
   "metadata": {},
   "outputs": [
    {
     "data": {
      "text/plain": [
       "{0: 0, 2: 2, 4: 4, 6: 6, 8: 8, 10: 10}"
      ]
     },
     "execution_count": 77,
     "metadata": {},
     "output_type": "execute_result"
    }
   ],
   "source": [
    "even = {i : i for i in range(11) if i%2==0}\n",
    "even"
   ]
  },
  {
   "cell_type": "code",
   "execution_count": 78,
   "metadata": {},
   "outputs": [
    {
     "name": "stdout",
     "output_type": "stream",
     "text": [
      "{0: 0, 5: 25, 10: 100, 15: 225, 20: 400, 25: 625, 30: 900, 35: 1225, 40: 1600, 45: 2025, 50: 2500}\n"
     ]
    }
   ],
   "source": [
    "div = { i : i**2 for i in range(51) if i%5==0}\n",
    "print(div)"
   ]
  },
  {
   "cell_type": "code",
   "execution_count": 82,
   "metadata": {},
   "outputs": [
    {
     "name": "stdout",
     "output_type": "stream",
     "text": [
      "{1: 1, 2: 2, 3: 3}\n"
     ]
    }
   ],
   "source": [
    "## count number of frequency of an element using dictionary \n",
    "\n",
    "numbers = [1,2,2,3,3,3]\n",
    "frequency = {}\n",
    "for i in numbers :\n",
    "    if i not in frequency :\n",
    "        frequency[i] = 1 \n",
    "    else :\n",
    "        frequency[i] += 1\n",
    "print(frequency)"
   ]
  },
  {
   "cell_type": "code",
   "execution_count": 84,
   "metadata": {},
   "outputs": [
    {
     "data": {
      "text/plain": [
       "{'a': 1, 'b': 2, 'c': 3, 'd': 4}"
      ]
     },
     "execution_count": 84,
     "metadata": {},
     "output_type": "execute_result"
    }
   ],
   "source": [
    "## Merge 2 dictionaries \n",
    "dict1 = {\"a\":1 , \"b\" :2}\n",
    "dict2 = {\"c\":3 , \"d\":4}\n",
    "merged_dict = {**dict1,**dict2}\n",
    "merged_dict"
   ]
  },
  {
   "cell_type": "code",
   "execution_count": 85,
   "metadata": {},
   "outputs": [
    {
     "name": "stdout",
     "output_type": "stream",
     "text": [
      "{'b': 2, 'c': 4, 'a': 1}\n"
     ]
    }
   ],
   "source": [
    "dict1 = {\"a\":1 , \"b\" :2}\n",
    "dict2 = {\"b\":3 , \"c\":4}\n",
    "merge = {**dict2,**dict1}\n",
    "print(merge)"
   ]
  },
  {
   "cell_type": "code",
   "execution_count": null,
   "metadata": {},
   "outputs": [],
   "source": []
  }
 ],
 "metadata": {
  "kernelspec": {
   "display_name": "base",
   "language": "python",
   "name": "python3"
  },
  "language_info": {
   "codemirror_mode": {
    "name": "ipython",
    "version": 3
   },
   "file_extension": ".py",
   "mimetype": "text/x-python",
   "name": "python",
   "nbconvert_exporter": "python",
   "pygments_lexer": "ipython3",
   "version": "3.11.4"
  }
 },
 "nbformat": 4,
 "nbformat_minor": 2
}
