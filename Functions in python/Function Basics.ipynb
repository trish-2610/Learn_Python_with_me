{
 "cells": [
  {
   "cell_type": "code",
   "execution_count": 2,
   "metadata": {},
   "outputs": [
    {
     "data": {
      "text/plain": [
       "'to return'"
      ]
     },
     "execution_count": 2,
     "metadata": {},
     "output_type": "execute_result"
    }
   ],
   "source": [
    "## Function - Function is a block of code , increases readability , reusability\n",
    "## function syntax\n",
    "def function_name(parameters):\n",
    "    \"\"\"block of code\"\"\"\n",
    "    return \"\"\"to return\"\"\"\n",
    "function_name(1)"
   ]
  },
  {
   "cell_type": "code",
   "execution_count": 3,
   "metadata": {},
   "outputs": [],
   "source": [
    "def even_odd(num):\n",
    "    \"\"\"This function checks even or odd\"\"\"  ## Docstring\n",
    "    if num % 2 != 0 :\n",
    "        print(\"Odd\")\n",
    "    else:\n",
    "        print(\"Even\")"
   ]
  },
  {
   "cell_type": "code",
   "execution_count": 9,
   "metadata": {},
   "outputs": [
    {
     "name": "stdout",
     "output_type": "stream",
     "text": [
      "Even\n"
     ]
    }
   ],
   "source": [
    "even_odd(12) ## function calling "
   ]
  },
  {
   "cell_type": "code",
   "execution_count": 5,
   "metadata": {},
   "outputs": [
    {
     "name": "stdout",
     "output_type": "stream",
     "text": [
      "Odd\n"
     ]
    }
   ],
   "source": [
    "even_odd(97)"
   ]
  },
  {
   "cell_type": "code",
   "execution_count": 10,
   "metadata": {},
   "outputs": [
    {
     "name": "stdout",
     "output_type": "stream",
     "text": [
      "Hello World\n"
     ]
    }
   ],
   "source": [
    "def greet():\n",
    "    print(\"Hello World\")\n",
    "greet()"
   ]
  },
  {
   "cell_type": "code",
   "execution_count": 12,
   "metadata": {},
   "outputs": [
    {
     "name": "stdout",
     "output_type": "stream",
     "text": [
      "35\n",
      "23\n"
     ]
    }
   ],
   "source": [
    "## function with multiple arguments \n",
    "def add(a,b):\n",
    "    return a+b\n",
    "\n",
    "def greater(a,b):\n",
    "    if a > b :\n",
    "        return a\n",
    "    else :\n",
    "        return b\n",
    "    \n",
    "result = add(12,23)\n",
    "print(result)  \n",
    "\n",
    "res = greater(11,23)\n",
    "print(res)"
   ]
  },
  {
   "cell_type": "code",
   "execution_count": 15,
   "metadata": {},
   "outputs": [],
   "source": [
    "## Default Parameters \n",
    "\n",
    "def greet(name):\n",
    "    print(f\"Hello {name}\")\n",
    "## greet() TypeError: greet() missing 1 required positional argument: 'name'\n"
   ]
  },
  {
   "cell_type": "code",
   "execution_count": 18,
   "metadata": {},
   "outputs": [
    {
     "name": "stdout",
     "output_type": "stream",
     "text": [
      "Hello Guest\n",
      "Hello Krish\n",
      "Hello Guest\n"
     ]
    }
   ],
   "source": [
    "def greet(name = \"Guest\"): ## default value - to prevent error\n",
    "    print(f\"Hello {name}\")\n",
    "greet()\n",
    "greet(\"Krish\")\n",
    "greet()"
   ]
  },
  {
   "cell_type": "code",
   "execution_count": 25,
   "metadata": {},
   "outputs": [
    {
     "name": "stdout",
     "output_type": "stream",
     "text": [
      "12\n"
     ]
    }
   ],
   "source": [
    "def add(a=0,b=0):\n",
    "    print(a+b)\n",
    "add(12)"
   ]
  },
  {
   "cell_type": "code",
   "execution_count": 31,
   "metadata": {},
   "outputs": [],
   "source": [
    "## Variable Arguments \n",
    "## Positional Arguments ( *args )\n",
    "def demo(*args):\n",
    "    for num in args:\n",
    "        print(f\"{num}\")\n"
   ]
  },
  {
   "cell_type": "code",
   "execution_count": 32,
   "metadata": {},
   "outputs": [
    {
     "name": "stdout",
     "output_type": "stream",
     "text": [
      "12\n",
      "34\n",
      "Krish\n",
      "True\n"
     ]
    }
   ],
   "source": [
    "demo(12,34,\"Krish\" , True)"
   ]
  },
  {
   "cell_type": "code",
   "execution_count": 33,
   "metadata": {},
   "outputs": [
    {
     "name": "stdout",
     "output_type": "stream",
     "text": [
      "1\n",
      "25\n",
      "36\n",
      "49\n",
      "81\n"
     ]
    }
   ],
   "source": [
    "def square(*args):\n",
    "    for i in args:\n",
    "        print(i**2)\n",
    "square(1,5,6,7,9)"
   ]
  },
  {
   "cell_type": "code",
   "execution_count": 35,
   "metadata": {},
   "outputs": [
    {
     "name": "stdout",
     "output_type": "stream",
     "text": [
      "name : Trishansh\n",
      "age : 19\n",
      "city : Indore\n"
     ]
    }
   ],
   "source": [
    "## Keyword arguments - key value pair \n",
    "def fun(**kwargs):\n",
    "    for keys,values in kwargs.items():\n",
    "        print(f\"{keys} : {values}\") \n",
    "fun(name=\"Trishansh\" , age=19 ,city= \"Indore\")"
   ]
  },
  {
   "cell_type": "code",
   "execution_count": 37,
   "metadata": {},
   "outputs": [
    {
     "name": "stdout",
     "output_type": "stream",
     "text": [
      "a : 1\n",
      "b : 4\n",
      "c : 9\n"
     ]
    }
   ],
   "source": [
    "def square1(**kwargs):\n",
    "    for keys,values in kwargs.items():\n",
    "        print(f\"{keys} : {values**2}\")\n",
    "square1(a=1,b=2,c=3)"
   ]
  },
  {
   "cell_type": "code",
   "execution_count": 41,
   "metadata": {},
   "outputs": [
    {
     "name": "stdout",
     "output_type": "stream",
     "text": [
      "1\n",
      "2\n",
      "3\n",
      "name  :  Krish\n",
      "age  :  32\n"
     ]
    }
   ],
   "source": [
    "def fun(*args,**kwargs):\n",
    "    for i in args:\n",
    "        print(i)\n",
    "    for k,v in kwargs.items():\n",
    "        print(k,\" : \",v)\n",
    "fun(1,2,3,name=\"Krish\",age=32)"
   ]
  },
  {
   "cell_type": "code",
   "execution_count": 46,
   "metadata": {},
   "outputs": [
    {
     "data": {
      "text/plain": [
       "4.0"
      ]
     },
     "execution_count": 46,
     "metadata": {},
     "output_type": "execute_result"
    }
   ],
   "source": [
    "## Return Statement \n",
    "def division(a,b):\n",
    "    return a / b \n",
    "division(12,3)"
   ]
  },
  {
   "cell_type": "code",
   "execution_count": 47,
   "metadata": {},
   "outputs": [
    {
     "data": {
      "text/plain": [
       "(12, 4, 3)"
      ]
     },
     "execution_count": 47,
     "metadata": {},
     "output_type": "execute_result"
    }
   ],
   "source": [
    "## Return Multiple parameters\n",
    "def multiply(a,b):\n",
    "    return a*b,b,a\n",
    "multiply(3,4)"
   ]
  },
  {
   "cell_type": "code",
   "execution_count": null,
   "metadata": {},
   "outputs": [],
   "source": []
  }
 ],
 "metadata": {
  "kernelspec": {
   "display_name": "base",
   "language": "python",
   "name": "python3"
  },
  "language_info": {
   "codemirror_mode": {
    "name": "ipython",
    "version": 3
   },
   "file_extension": ".py",
   "mimetype": "text/x-python",
   "name": "python",
   "nbconvert_exporter": "python",
   "pygments_lexer": "ipython3",
   "version": "3.11.4"
  }
 },
 "nbformat": 4,
 "nbformat_minor": 2
}
