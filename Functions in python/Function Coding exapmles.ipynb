{
 "cells": [
  {
   "cell_type": "code",
   "execution_count": 1,
   "metadata": {},
   "outputs": [
    {
     "name": "stdout",
     "output_type": "stream",
     "text": [
      "77.0\n",
      "25.0\n"
     ]
    }
   ],
   "source": [
    "## Temperature Conversion \n",
    "\n",
    "def convert_temp(temp,unit):\n",
    "    if unit == \"C\":\n",
    "        return temp * 9/5 +  32 ## celsius to fahrenheit\n",
    "    elif unit == \"F\":\n",
    "        return (temp - 32) * 5/9 ## fahrenheit to celsius \n",
    "    else:\n",
    "        return None \n",
    "print(convert_temp(25,\"C\"))\n",
    "print(convert_temp(77,\"F\"))"
   ]
  },
  {
   "cell_type": "code",
   "execution_count": 5,
   "metadata": {},
   "outputs": [
    {
     "data": {
      "text/plain": [
       "True"
      ]
     },
     "execution_count": 5,
     "metadata": {},
     "output_type": "execute_result"
    }
   ],
   "source": [
    "## Password strength checker \n",
    "def strong_password(password):\n",
    "    if len(password) < 8 :\n",
    "        return False \n",
    "    if not any(char.isdigit() for char in password):\n",
    "        return False \n",
    "    if not any(char.islower() for char in password):\n",
    "        return False\n",
    "    if not any(char.isupper() for char in password):\n",
    "        return False\n",
    "    if not any(char in \"@#$%&*\" for char in password):\n",
    "        return False \n",
    "    return True\n",
    "\n",
    "strong_password(\"Trishansh12\") ## False \n",
    "strong_password(\"Tri12@122\") ## True "
   ]
  },
  {
   "cell_type": "code",
   "execution_count": 8,
   "metadata": {},
   "outputs": [
    {
     "data": {
      "text/plain": [
       "475"
      ]
     },
     "execution_count": 8,
     "metadata": {},
     "output_type": "execute_result"
    }
   ],
   "source": [
    "## calculate total cost of items in shopping cart \n",
    "\n",
    "def shopping_cart(cart):\n",
    "    total_cost = 0\n",
    "    for item in cart:\n",
    "      total_cost += item[\"price\"] * item[\"quantity\"]\n",
    "    return total_cost\n",
    "cart = [\n",
    "    {\"name\" : \"apple\" , \"price\":20 , \"quantity\":4},\n",
    "    {\"name\" : \"grape\" , \"price\":30 , \"quantity\":9},\n",
    "    {\"name\" : \"banana\" , \"price\":25 , \"quantity\":5}\n",
    "]\n",
    "shopping_cart(cart)"
   ]
  },
  {
   "cell_type": "code",
   "execution_count": 12,
   "metadata": {},
   "outputs": [
    {
     "data": {
      "text/plain": [
       "True"
      ]
     },
     "execution_count": 12,
     "metadata": {},
     "output_type": "execute_result"
    }
   ],
   "source": [
    "## palindrome string \n",
    "def is_palindrome(str):\n",
    "    str = str.lower().replace(\" \",\"\")\n",
    "    return str == str[::-1]\n",
    "is_palindrome(\"abba\")\n",
    "is_palindrome(\"Hello\")\n",
    "is_palindrome(\"A man a plan a canal Panama\")"
   ]
  },
  {
   "cell_type": "code",
   "execution_count": 17,
   "metadata": {},
   "outputs": [
    {
     "data": {
      "text/plain": [
       "720"
      ]
     },
     "execution_count": 17,
     "metadata": {},
     "output_type": "execute_result"
    }
   ],
   "source": [
    "## Factorial using recursion \n",
    "def fact(num):\n",
    "    if num == 0 :\n",
    "        return 1 \n",
    "    else :\n",
    "        return num * fact(num - 1)\n",
    "fact(6)\n",
    "\n"
   ]
  },
  {
   "cell_type": "code",
   "execution_count": null,
   "metadata": {},
   "outputs": [],
   "source": []
  }
 ],
 "metadata": {
  "kernelspec": {
   "display_name": "base",
   "language": "python",
   "name": "python3"
  },
  "language_info": {
   "codemirror_mode": {
    "name": "ipython",
    "version": 3
   },
   "file_extension": ".py",
   "mimetype": "text/x-python",
   "name": "python",
   "nbconvert_exporter": "python",
   "pygments_lexer": "ipython3",
   "version": "3.11.4"
  }
 },
 "nbformat": 4,
 "nbformat_minor": 2
}
