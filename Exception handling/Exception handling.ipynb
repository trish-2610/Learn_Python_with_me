{
 "cells": [
  {
   "cell_type": "code",
   "execution_count": 2,
   "metadata": {},
   "outputs": [],
   "source": [
    "## exception handling using try and catch block\n",
    "\n",
    "## a = b # NameError: name 'b' is not defined"
   ]
  },
  {
   "cell_type": "code",
   "execution_count": 5,
   "metadata": {},
   "outputs": [
    {
     "name": "stdout",
     "output_type": "stream",
     "text": [
      "b is not defined \n"
     ]
    }
   ],
   "source": [
    "try:\n",
    "    a = b\n",
    "except:\n",
    "    print(\"b is not defined \")"
   ]
  },
  {
   "cell_type": "code",
   "execution_count": 10,
   "metadata": {},
   "outputs": [
    {
     "name": "stdout",
     "output_type": "stream",
     "text": [
      "wrong variable name\n"
     ]
    }
   ],
   "source": [
    "try :\n",
    "    a = c\n",
    "except :\n",
    "    print(\"wrong variable name\")"
   ]
  },
  {
   "cell_type": "code",
   "execution_count": 11,
   "metadata": {},
   "outputs": [
    {
     "name": "stdout",
     "output_type": "stream",
     "text": [
      "name 'b' is not defined\n"
     ]
    }
   ],
   "source": [
    "try :\n",
    "    a = b \n",
    "except NameError as ex :\n",
    "    print(ex)"
   ]
  },
  {
   "cell_type": "code",
   "execution_count": 13,
   "metadata": {},
   "outputs": [
    {
     "name": "stdout",
     "output_type": "stream",
     "text": [
      "name 'c' is not defined\n"
     ]
    }
   ],
   "source": [
    "try :\n",
    "    a = c \n",
    "except NameError as ex:\n",
    "    print(ex)"
   ]
  },
  {
   "cell_type": "code",
   "execution_count": 15,
   "metadata": {},
   "outputs": [],
   "source": [
    "#  result = 1/0 # ZeroDivisionError: division by zero"
   ]
  },
  {
   "cell_type": "code",
   "execution_count": 17,
   "metadata": {},
   "outputs": [
    {
     "name": "stdout",
     "output_type": "stream",
     "text": [
      "division by zero\n",
      "please enter the value greater than 0 \n"
     ]
    }
   ],
   "source": [
    "try :\n",
    "    result = 1/0\n",
    "except ZeroDivisionError as ex:\n",
    "    print(ex)\n",
    "    print(\"please enter the value greater than 0 \")"
   ]
  },
  {
   "cell_type": "code",
   "execution_count": 20,
   "metadata": {},
   "outputs": [],
   "source": [
    "#try :\n",
    "    #a = b \n",
    "#except ZeroDivisionError as ex :\n",
    "    #print(ex)\n",
    "\n",
    "#NameError: name 'b' is not defined"
   ]
  },
  {
   "cell_type": "code",
   "execution_count": 26,
   "metadata": {},
   "outputs": [
    {
     "name": "stdout",
     "output_type": "stream",
     "text": [
      "name 'b' is not defined\n"
     ]
    }
   ],
   "source": [
    "try :\n",
    "    result = 1/2\n",
    "    a = b\n",
    "except ZeroDivisionError as ex :\n",
    "    print(ex)\n",
    "except Exception as ex1 :\n",
    "    print(ex1)\n",
    "\n",
    "# Exception - Parent Class that can handle any exception (always written at last)"
   ]
  },
  {
   "cell_type": "code",
   "execution_count": 28,
   "metadata": {},
   "outputs": [
    {
     "name": "stdout",
     "output_type": "stream",
     "text": [
      "name 'c' is not defined\n"
     ]
    }
   ],
   "source": [
    "try :\n",
    "    r = c * (1 / 0)   \n",
    "except ZeroDivisionError as ex :\n",
    "    print(ex)\n",
    "except Exception as ex1 :\n",
    "    print(ex1)"
   ]
  },
  {
   "cell_type": "code",
   "execution_count": 32,
   "metadata": {},
   "outputs": [
    {
     "name": "stdout",
     "output_type": "stream",
     "text": [
      "invalid literal for int() with base 10: '23ac'\n"
     ]
    }
   ],
   "source": [
    "try :\n",
    "    num = int(input(\"Enter Number \"))\n",
    "    result = 10 / num\n",
    "except ZeroDivisionError as ex :\n",
    "    print(ex)\n",
    "except ValueError as ex1 :\n",
    "    print(ex1)\n",
    "except Exception as ex2 :\n",
    "    print(ex2)"
   ]
  },
  {
   "cell_type": "code",
   "execution_count": 35,
   "metadata": {},
   "outputs": [
    {
     "name": "stdout",
     "output_type": "stream",
     "text": [
      "invalid literal for int() with base 10: '1a'\n"
     ]
    }
   ],
   "source": [
    "try :\n",
    "    num = int(input(\"Enter Number \"))\n",
    "    result = 10 / num\n",
    "except Exception as ex :\n",
    "    print(ex)"
   ]
  },
  {
   "cell_type": "code",
   "execution_count": 39,
   "metadata": {},
   "outputs": [
    {
     "name": "stdout",
     "output_type": "stream",
     "text": [
      "final result is = 0.7142857142857143\n"
     ]
    }
   ],
   "source": [
    "## try , catch with else block\n",
    "try :\n",
    "    num = int(input(\"Enter Number \"))\n",
    "    result = 10 / num\n",
    "except ZeroDivisionError as ex :\n",
    "    print(ex)\n",
    "except ValueError as ex1 :\n",
    "    print(ex1)\n",
    "except Exception as ex2 :\n",
    "    print(ex2)\n",
    "else : # it gets executed when no error occurs in try block\n",
    "    print(f\"final result is = {result}\")"
   ]
  },
  {
   "cell_type": "code",
   "execution_count": 42,
   "metadata": {},
   "outputs": [
    {
     "name": "stdout",
     "output_type": "stream",
     "text": [
      "final result is = 0.7692307692307693\n",
      "Execution Completed\n"
     ]
    }
   ],
   "source": [
    "## try , catch , else , finally  block\n",
    "\n",
    "try :\n",
    "    num = int(input(\"Enter Number \"))\n",
    "    result = 10 / num\n",
    "except ZeroDivisionError as ex :\n",
    "    print(ex)\n",
    "except ValueError as ex1 :\n",
    "    print(ex1)\n",
    "except Exception as ex2 :\n",
    "    print(ex2)\n",
    "else : # it gets executed when no error occurs in try block\n",
    "    print(f\"final result is = {result}\")\n",
    "finally: # it gets executed every time irrespective of the result of try/catch block \n",
    "    print(\"Execution Completed\") ## database connectivity ( connection closed )\n"
   ]
  },
  {
   "cell_type": "code",
   "execution_count": 51,
   "metadata": {},
   "outputs": [
    {
     "name": "stdout",
     "output_type": "stream",
     "text": [
      "\n"
     ]
    }
   ],
   "source": [
    "## file handling and exception handling \n",
    "\n",
    "try :\n",
    "    file = open(\"example.txt\",\"r\")\n",
    "    content = file.read()\n",
    "    print(content)\n",
    "except FileNotFoundError as ex :\n",
    "    print(ex)\n",
    "# finally :\n",
    "    # if file in locals() or not file.closed():\n",
    "        # file.close()\n",
    "        # print(\"File closed \")\n",
    "\n"
   ]
  },
  {
   "cell_type": "code",
   "execution_count": 50,
   "metadata": {},
   "outputs": [
    {
     "name": "stdout",
     "output_type": "stream",
     "text": [
      "\n",
      "File closed \n"
     ]
    }
   ],
   "source": [
    "try :\n",
    "    file1 = open(\"example.txt\",\"r\")\n",
    "    content = file1.read()\n",
    "    print(content)\n",
    "except FileNotFoundError as ex :\n",
    "    print(ex)\n",
    "finally :\n",
    "    if \"file1\" in locals() or not file1.closed():\n",
    "        file1.close()\n",
    "        print(\"File closed \")"
   ]
  },
  {
   "cell_type": "code",
   "execution_count": null,
   "metadata": {},
   "outputs": [],
   "source": []
  }
 ],
 "metadata": {
  "kernelspec": {
   "display_name": "base",
   "language": "python",
   "name": "python3"
  },
  "language_info": {
   "codemirror_mode": {
    "name": "ipython",
    "version": 3
   },
   "file_extension": ".py",
   "mimetype": "text/x-python",
   "name": "python",
   "nbconvert_exporter": "python",
   "pygments_lexer": "ipython3",
   "version": "3.11.4"
  }
 },
 "nbformat": 4,
 "nbformat_minor": 2
}
