{
 "cells": [
  {
   "cell_type": "code",
   "execution_count": null,
   "metadata": {},
   "outputs": [],
   "source": [
    "## In Python, \"logging\" refers to a way of keeping a record of events that happen \n",
    "# when your program runs. Instead of just printing messages to the screen, you can\n",
    "#  use logging to save those messages to a file or display them with different levels\n",
    "#  of importance (like debug, info, warning, error, and critical). \n",
    "# This helps you understand what your program is doing,\n",
    "#  especially when you want to find out why something went wrong."
   ]
  },
  {
   "cell_type": "code",
   "execution_count": 2,
   "metadata": {},
   "outputs": [],
   "source": [
    "import logging "
   ]
  },
  {
   "cell_type": "code",
   "execution_count": 3,
   "metadata": {},
   "outputs": [],
   "source": [
    "## Configure the basic logging setting \n",
    "logging.basicConfig(level = logging.DEBUG)"
   ]
  },
  {
   "cell_type": "code",
   "execution_count": 6,
   "metadata": {},
   "outputs": [
    {
     "name": "stderr",
     "output_type": "stream",
     "text": [
      "DEBUG:root:This is a debug message\n",
      "INFO:root:This is an info message \n",
      "WARNING:root:This is a warning message \n",
      "ERROR:root:This is an error message \n",
      "CRITICAL:root:This is a critical message\n"
     ]
    }
   ],
   "source": [
    "## log messages with different severity levels \n",
    "logging.debug(\"This is a debug message\")\n",
    "logging.info(\"This is an info message \")\n",
    "logging.warning(\"This is a warning message \")\n",
    "logging.error(\"This is an error message \")\n",
    "logging.critical(\"This is a critical message\")"
   ]
  },
  {
   "cell_type": "code",
   "execution_count": null,
   "metadata": {},
   "outputs": [],
   "source": [
    "# DEBUG: Detailed information, typically for diagnosing problems.\n",
    "# INFO: General information about the program's execution.\n",
    "# WARNING: Indicates something unexpected happened, but the program is still running.\n",
    "# ERROR: A more serious problem, indicating that the program couldn't do something.\n",
    "# CRITICAL: A very serious error, indicating that the program might not be able to continue running."
   ]
  },
  {
   "cell_type": "code",
   "execution_count": 1,
   "metadata": {},
   "outputs": [],
   "source": [
    "import logging\n",
    "\n",
    "# Configuring logging\n",
    "logging.basicConfig(\n",
    "    filename=\"app1.log\",\n",
    "    filemode=\"w\",\n",
    "    level=logging.DEBUG,\n",
    "    # format=\"%(asctime)s - %(name)s - %(levelname)s - %(message)s\",\n",
    "    # datefmt=\"%Y-%m-%d %H:%M:%S\"\n",
    ")\n",
    "\n",
    "# Log messages with different severity levels\n",
    "logging.debug(\"This is a debug message\")\n",
    "logging.info(\"This is an info message\")\n",
    "logging.warning(\"This is a warning message\")\n",
    "logging.error(\"This is an error message\")\n",
    "logging.critical(\"This is a critical message\")\n"
   ]
  },
  {
   "cell_type": "code",
   "execution_count": null,
   "metadata": {},
   "outputs": [],
   "source": []
  },
  {
   "cell_type": "code",
   "execution_count": null,
   "metadata": {},
   "outputs": [],
   "source": []
  }
 ],
 "metadata": {
  "kernelspec": {
   "display_name": "Python 3",
   "language": "python",
   "name": "python3"
  },
  "language_info": {
   "codemirror_mode": {
    "name": "ipython",
    "version": 3
   },
   "file_extension": ".py",
   "mimetype": "text/x-python",
   "name": "python",
   "nbconvert_exporter": "python",
   "pygments_lexer": "ipython3",
   "version": "3.11.1"
  }
 },
 "nbformat": 4,
 "nbformat_minor": 2
}
