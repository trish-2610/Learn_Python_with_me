{
 "cells": [
  {
   "cell_type": "code",
   "execution_count": 1,
   "metadata": {},
   "outputs": [
    {
     "name": "stdout",
     "output_type": "stream",
     "text": [
      "Name =  Trishansh\n",
      "age =  19\n",
      "height = 5.5\n"
     ]
    }
   ],
   "source": [
    "## Variable Declaration and assignment \n",
    "\n",
    "Name = \"Trishansh\"\n",
    "age = 19 \n",
    "Height = 5.5\n",
    "is_student = True \n",
    "\n",
    "# printing the variables \n",
    "\n",
    "print(\"Name = \" , Name )\n",
    "print(\"age = \", age )\n",
    "print(\"height =\" , Height )"
   ]
  },
  {
   "cell_type": "code",
   "execution_count": 7,
   "metadata": {},
   "outputs": [],
   "source": [
    "## Naming conventions \n",
    "\n",
    "## variable names should be descriptive \n",
    "## variables are case sensitive \n",
    "## variables must start with a letter or underscore and contains letters , numbers and _ underscore \n",
    "\n",
    "first_name = \"Trishansh\"\n",
    "last_name_ = \"Sahane\"\n",
    "name12 = 12"
   ]
  },
  {
   "cell_type": "code",
   "execution_count": 8,
   "metadata": {},
   "outputs": [],
   "source": [
    "# Invalid Variable names \n",
    "# 1abc = 23 # SyntaxError: invalid decimal literal\n",
    "# @23223 = 23 \n",
    "# first-name = \"Hey\""
   ]
  },
  {
   "cell_type": "code",
   "execution_count": 9,
   "metadata": {},
   "outputs": [
    {
     "name": "stdout",
     "output_type": "stream",
     "text": [
      "<class 'str'>\n"
     ]
    }
   ],
   "source": [
    "# Python is dynamically typed - type of variable inferred (determined) at runtime , no need to declare before using them \n",
    "Name = \"Trishansh\" # str\n",
    "age = 19  # int \n",
    "Height = 5.5 # float\n",
    "is_student = True # bool\n",
    "print(type(Name))"
   ]
  },
  {
   "cell_type": "code",
   "execution_count": 10,
   "metadata": {},
   "outputs": [
    {
     "data": {
      "text/plain": [
       "int"
      ]
     },
     "execution_count": 10,
     "metadata": {},
     "output_type": "execute_result"
    }
   ],
   "source": [
    "# Type Checking and Type Conversion \n",
    "\n",
    "type(age)"
   ]
  },
  {
   "cell_type": "code",
   "execution_count": 14,
   "metadata": {},
   "outputs": [
    {
     "name": "stdout",
     "output_type": "stream",
     "text": [
      "<class 'int'>\n",
      "<class 'str'>\n"
     ]
    }
   ],
   "source": [
    "age = 23 \n",
    "print(type(age))\n",
    "new_age = str(age)\n",
    "print(type(new_age))"
   ]
  },
  {
   "cell_type": "code",
   "execution_count": 18,
   "metadata": {},
   "outputs": [
    {
     "data": {
      "text/plain": [
       "5.0"
      ]
     },
     "execution_count": 18,
     "metadata": {},
     "output_type": "execute_result"
    }
   ],
   "source": [
    "height = 5.5\n",
    "int(height)\n",
    "float(int(height))\n"
   ]
  },
  {
   "cell_type": "code",
   "execution_count": 21,
   "metadata": {},
   "outputs": [],
   "source": [
    "name = \"Trishansh\"\n",
    "# int(name)\n",
    "# ValueError: invalid literal for int() with base 10: 'Trishansh'"
   ]
  },
  {
   "cell_type": "code",
   "execution_count": 22,
   "metadata": {},
   "outputs": [
    {
     "data": {
      "text/plain": [
       "'12'"
      ]
     },
     "execution_count": 22,
     "metadata": {},
     "output_type": "execute_result"
    }
   ],
   "source": [
    "age = 12 \n",
    "str(age)"
   ]
  },
  {
   "cell_type": "code",
   "execution_count": 23,
   "metadata": {},
   "outputs": [
    {
     "data": {
      "text/plain": [
       "12.0"
      ]
     },
     "execution_count": 23,
     "metadata": {},
     "output_type": "execute_result"
    }
   ],
   "source": [
    "age = 12.34 \n",
    "float(int(str(int(age))))"
   ]
  },
  {
   "cell_type": "code",
   "execution_count": 24,
   "metadata": {},
   "outputs": [
    {
     "name": "stdout",
     "output_type": "stream",
     "text": [
      "12 <class 'int'>\n",
      "23.34 <class 'float'>\n",
      "12 <class 'str'>\n"
     ]
    }
   ],
   "source": [
    "# Dynamic typing \n",
    "# Python allows the type of variables to change as the program executes \n",
    "var = 12 \n",
    "print(var , type(var))\n",
    "\n",
    "var = 23.34\n",
    "print(var , type(var))\n",
    "\n",
    "var = \"12\"\n",
    "print(var , type(var))"
   ]
  },
  {
   "cell_type": "code",
   "execution_count": 25,
   "metadata": {},
   "outputs": [
    {
     "name": "stdout",
     "output_type": "stream",
     "text": [
      "23 <class 'str'>\n"
     ]
    }
   ],
   "source": [
    "## input - used to take user input ( by default string value )\n",
    "age = input(\"What is your age ? \")\n",
    "print(age , type(age))"
   ]
  },
  {
   "cell_type": "code",
   "execution_count": 26,
   "metadata": {},
   "outputs": [
    {
     "name": "stdout",
     "output_type": "stream",
     "text": [
      "12 <class 'int'>\n"
     ]
    }
   ],
   "source": [
    "age = int(input(\"What's your age ? \"))\n",
    "print(age , type(age))"
   ]
  },
  {
   "cell_type": "code",
   "execution_count": 31,
   "metadata": {},
   "outputs": [
    {
     "name": "stdout",
     "output_type": "stream",
     "text": [
      "TRishansh <class 'str'>\n"
     ]
    }
   ],
   "source": [
    "name = eval(input(\"Enter name \")) #automatically detects type of data \n",
    "print(name , type(name))"
   ]
  },
  {
   "cell_type": "code",
   "execution_count": 32,
   "metadata": {},
   "outputs": [
    {
     "name": "stdout",
     "output_type": "stream",
     "text": [
      "sum =  35\n",
      "difference =  -11\n",
      "mul =  276\n",
      "Division =  0.5217391304347826\n"
     ]
    }
   ],
   "source": [
    "# Simple Calculator \n",
    "\n",
    "a = eval(input(\"Enter first value \"))\n",
    "b = eval(input(\"Enter Second value \"))\n",
    "\n",
    "sum = a + b\n",
    "diff = a - b\n",
    "mul = a * b \n",
    "div = a / b \n",
    "floor = a // b\n",
    "mod = a % b \n",
    "\n",
    "print(\"sum = \" , sum)\n",
    "print(\"difference = \" , diff)\n",
    "print(\"mul = \" , mul )\n",
    "print(\"Division = \" , div)"
   ]
  },
  {
   "cell_type": "code",
   "execution_count": null,
   "metadata": {},
   "outputs": [],
   "source": []
  }
 ],
 "metadata": {
  "kernelspec": {
   "display_name": "base",
   "language": "python",
   "name": "python3"
  },
  "language_info": {
   "codemirror_mode": {
    "name": "ipython",
    "version": 3
   },
   "file_extension": ".py",
   "mimetype": "text/x-python",
   "name": "python",
   "nbconvert_exporter": "python",
   "pygments_lexer": "ipython3",
   "version": "3.11.4"
  }
 },
 "nbformat": 4,
 "nbformat_minor": 2
}
