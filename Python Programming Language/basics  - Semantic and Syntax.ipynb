{
 "cells": [
  {
   "cell_type": "code",
   "execution_count": 1,
   "metadata": {},
   "outputs": [],
   "source": [
    "# single line comment \n",
    "## It is a single line comment in python"
   ]
  },
  {
   "cell_type": "code",
   "execution_count": 2,
   "metadata": {},
   "outputs": [
    {
     "data": {
      "text/plain": [
       "'\\n-------\\nIt is a multi-line comment in python\\n-------\\n'"
      ]
     },
     "execution_count": 2,
     "metadata": {},
     "output_type": "execute_result"
    }
   ],
   "source": [
    "'''\n",
    "-------\n",
    "It is a multi-line comment in python\n",
    "-------\n",
    "'''"
   ]
  },
  {
   "cell_type": "code",
   "execution_count": 3,
   "metadata": {},
   "outputs": [],
   "source": [
    "## multi-line comments only works with .py file in .ipynb file it behaves as a string "
   ]
  },
  {
   "cell_type": "code",
   "execution_count": 4,
   "metadata": {},
   "outputs": [
    {
     "data": {
      "text/plain": [
       "'\\nThis is Trishansh\\nI am in third year of my graduation \\n'"
      ]
     },
     "execution_count": 4,
     "metadata": {},
     "output_type": "execute_result"
    }
   ],
   "source": [
    "## single line comments \n",
    "\n",
    "#This is Trishansh\n",
    "## I am in third year of my graduation \n",
    "\n",
    "## multi-line comments \n",
    "\n",
    "'''\n",
    "This is Trishansh\n",
    "I am in third year of my graduation \n",
    "'''"
   ]
  },
  {
   "cell_type": "code",
   "execution_count": 5,
   "metadata": {},
   "outputs": [
    {
     "name": "stdout",
     "output_type": "stream",
     "text": [
      "Rock\n",
      "Rohan\n"
     ]
    }
   ],
   "source": [
    "## Basic Syntax rule in python \n",
    "\n",
    "## Case-sensitivity - Python is case-sensitive \n",
    "\n",
    "name = \"Rock\"\n",
    "Name = \"Rohan\"\n",
    "print(name)\n",
    "print(Name)  "
   ]
  },
  {
   "cell_type": "code",
   "execution_count": 6,
   "metadata": {},
   "outputs": [
    {
     "name": "stdout",
     "output_type": "stream",
     "text": [
      "12     34\n"
     ]
    }
   ],
   "source": [
    "a , A = 12 , 34 \n",
    "print(a , \"   \" , A)"
   ]
  },
  {
   "cell_type": "code",
   "execution_count": 7,
   "metadata": {},
   "outputs": [
    {
     "name": "stdout",
     "output_type": "stream",
     "text": [
      "12 34\n"
     ]
    }
   ],
   "source": [
    "# python is case sensitive it means small alphabet and capital alphabet are treated different\n",
    "aaa = 12 \n",
    "AAA = 34 \n",
    "print(aaa,AAA)"
   ]
  },
  {
   "cell_type": "code",
   "execution_count": 10,
   "metadata": {},
   "outputs": [
    {
     "name": "stdout",
     "output_type": "stream",
     "text": [
      "46\n",
      "23\n"
     ]
    }
   ],
   "source": [
    "## Indentation - Python uses Indentation to define a block of code , Usually 4 spaces or tab\n",
    "age = 23 \n",
    "if age > 20 :\n",
    "    print(age + 23 )\n",
    "\n",
    "print(age)\n",
    "\n",
    "# No indentation leads to indentation error \n",
    "## IndentationError: expected an indented block after 'if' statement on line 3"
   ]
  },
  {
   "cell_type": "code",
   "execution_count": 14,
   "metadata": {},
   "outputs": [
    {
     "name": "stdout",
     "output_type": "stream",
     "text": [
      "0\n",
      "1\n",
      "2\n",
      "3\n",
      "4\n",
      "5\n"
     ]
    }
   ],
   "source": [
    "for i in range(6):\n",
    "    print(i)\n",
    "# No error \n",
    "\n",
    "#for i in range(6):\n",
    "#print(i)\n",
    "# IndentationError: expected an indented block after 'if' statement on line 3"
   ]
  },
  {
   "cell_type": "code",
   "execution_count": 16,
   "metadata": {},
   "outputs": [
    {
     "name": "stdout",
     "output_type": "stream",
     "text": [
      "27\n",
      "-15\n"
     ]
    }
   ],
   "source": [
    "## Line continuation - using a backslash (\\)\n",
    "total = 1+2+3+4+5\\\n",
    "+4+7+1\n",
    "print(total)\n",
    "\n",
    "sum = 1+3-4+4-7\\\n",
    "-2+3-6-7\n",
    "print(sum)"
   ]
  },
  {
   "cell_type": "code",
   "execution_count": 18,
   "metadata": {},
   "outputs": [
    {
     "name": "stdout",
     "output_type": "stream",
     "text": [
      "35\n",
      "0.5217391304347826\n"
     ]
    }
   ],
   "source": [
    "## Multiple Statements on a single line \n",
    "x = 12 ; y = 23 ; z = x + y\n",
    "print(z)\n",
    "\n",
    "a = 12 ; b = 22 ; z = x / y\n",
    "print(z)"
   ]
  },
  {
   "cell_type": "code",
   "execution_count": 19,
   "metadata": {},
   "outputs": [],
   "source": [
    "## Understanding Semantics in python \n",
    "# Variable Declaration \n",
    "name = \"Krish\" ## name is string \n",
    "age = 12 ## age is integer \n",
    "## In python no need to declare data type before using them - Dynamically typed language "
   ]
  },
  {
   "cell_type": "code",
   "execution_count": 22,
   "metadata": {},
   "outputs": [
    {
     "data": {
      "text/plain": [
       "str"
      ]
     },
     "execution_count": 22,
     "metadata": {},
     "output_type": "execute_result"
    }
   ],
   "source": [
    "type(age)\n",
    "type(name)"
   ]
  },
  {
   "cell_type": "code",
   "execution_count": 25,
   "metadata": {},
   "outputs": [
    {
     "name": "stdout",
     "output_type": "stream",
     "text": [
      "<class 'int'>\n",
      "<class 'str'>\n"
     ]
    }
   ],
   "source": [
    "# Type Inference - Dynamically typing \n",
    "var = 12 \n",
    "print(type(var))\n",
    "var = \"Hello\"\n",
    "print(type(var))\n",
    "# you can infer the variable at runtime "
   ]
  },
  {
   "cell_type": "code",
   "execution_count": 26,
   "metadata": {},
   "outputs": [
    {
     "name": "stdout",
     "output_type": "stream",
     "text": [
      "<class 'str'>\n",
      "<class 'float'>\n",
      "<class 'int'>\n"
     ]
    }
   ],
   "source": [
    "a = \"Hey\"\n",
    "print(type(a))\n",
    "a = 23.34\n",
    "print(type(a))\n",
    "a = 45 \n",
    "print(type(a))"
   ]
  },
  {
   "cell_type": "code",
   "execution_count": 27,
   "metadata": {},
   "outputs": [
    {
     "name": "stdout",
     "output_type": "stream",
     "text": [
      "-1-\n",
      "-3-\n",
      "-4-\n"
     ]
    }
   ],
   "source": [
    "# Code examples of Indentation \n",
    "if True : \n",
    "    print(\"-1-\")\n",
    "    if False :\n",
    "        print(\"-2-\")\n",
    "    print(\"-3-\")\n",
    "print(\"-4-\")"
   ]
  },
  {
   "cell_type": "code",
   "execution_count": 28,
   "metadata": {},
   "outputs": [
    {
     "name": "stdout",
     "output_type": "stream",
     "text": [
      "-4-\n"
     ]
    }
   ],
   "source": [
    "if False :\n",
    "    print(\"-1-\")\n",
    "    if True :\n",
    "        print(\"-2-\")\n",
    "    print(\"-3-\")\n",
    "print(\"-4-\") ## Outside "
   ]
  },
  {
   "cell_type": "code",
   "execution_count": null,
   "metadata": {},
   "outputs": [],
   "source": []
  }
 ],
 "metadata": {
  "kernelspec": {
   "display_name": "base",
   "language": "python",
   "name": "python3"
  },
  "language_info": {
   "codemirror_mode": {
    "name": "ipython",
    "version": 3
   },
   "file_extension": ".py",
   "mimetype": "text/x-python",
   "name": "python",
   "nbconvert_exporter": "python",
   "pygments_lexer": "ipython3",
   "version": "3.11.4"
  }
 },
 "nbformat": 4,
 "nbformat_minor": 2
}
