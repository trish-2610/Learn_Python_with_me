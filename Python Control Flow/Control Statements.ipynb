{
 "cells": [
  {
   "cell_type": "code",
   "execution_count": 1,
   "metadata": {},
   "outputs": [
    {
     "name": "stdout",
     "output_type": "stream",
     "text": [
      "Eligible to vote\n"
     ]
    }
   ],
   "source": [
    "## if statement \n",
    "\n",
    "age = 23 \n",
    "if age>= 18 :\n",
    "    print(\"Eligible to vote\")"
   ]
  },
  {
   "cell_type": "code",
   "execution_count": 2,
   "metadata": {},
   "outputs": [
    {
     "name": "stdout",
     "output_type": "stream",
     "text": [
      "Yes...\n"
     ]
    }
   ],
   "source": [
    "fruit = \"banana\"\n",
    "if fruit == \"banana\":\n",
    "    print(\"Yes...\")"
   ]
  },
  {
   "cell_type": "code",
   "execution_count": 4,
   "metadata": {},
   "outputs": [
    {
     "name": "stdout",
     "output_type": "stream",
     "text": [
      "Not Eligible\n"
     ]
    }
   ],
   "source": [
    "## else statement - if condition is False \n",
    "age = 12 \n",
    "if age >= 18 :\n",
    "    print(\"Eligible\")\n",
    "else :\n",
    "    print(\"Not Eligible\")"
   ]
  },
  {
   "cell_type": "code",
   "execution_count": 8,
   "metadata": {},
   "outputs": [
    {
     "name": "stdout",
     "output_type": "stream",
     "text": [
      "No\n"
     ]
    }
   ],
   "source": [
    "name = \"Rohan\"\n",
    "if name == \"rohan\" :\n",
    "    print(\"Yes\")\n",
    "else :\n",
    "    print(\"No\")"
   ]
  },
  {
   "cell_type": "code",
   "execution_count": 11,
   "metadata": {},
   "outputs": [
    {
     "name": "stdout",
     "output_type": "stream",
     "text": [
      "Adult\n"
     ]
    }
   ],
   "source": [
    "## elif - else if , for multiple statements \n",
    "\n",
    "age = 14 \n",
    "if age < 12 :\n",
    "    print(\"Child\")\n",
    "elif age < 18 :\n",
    "    print(\"Adult\")\n",
    "else :\n",
    "    print(\"young\")"
   ]
  },
  {
   "cell_type": "code",
   "execution_count": 16,
   "metadata": {},
   "outputs": [
    {
     "name": "stdout",
     "output_type": "stream",
     "text": [
      "Outstanding\n"
     ]
    }
   ],
   "source": [
    "marks = int(input(\"Enter marks\")) \n",
    "if marks <= 33 :\n",
    "    print(\"Pass\")\n",
    "elif marks <= 50 :\n",
    "    print(\"Good\")\n",
    "elif marks <= 75 :\n",
    "    print(\"Very good\")\n",
    "else : \n",
    "    print(\"Outstanding\")"
   ]
  },
  {
   "cell_type": "code",
   "execution_count": 20,
   "metadata": {},
   "outputs": [
    {
     "name": "stdout",
     "output_type": "stream",
     "text": [
      "Positive\n",
      "Even\n"
     ]
    }
   ],
   "source": [
    "## Nested Conditional Statement \n",
    "# even , odd , positive , negative \n",
    "\n",
    "num = int(input(\"Enter Number : \"))\n",
    "\n",
    "if num >= 0 :\n",
    "    print(\"Positive\")\n",
    "    if num % 2 == 0 :\n",
    "        print(\"Even\")\n",
    "    else : \n",
    "        print(\"Odd\")\n",
    "else :\n",
    "    print(\"Negative\")"
   ]
  },
  {
   "cell_type": "code",
   "execution_count": 22,
   "metadata": {},
   "outputs": [
    {
     "name": "stdout",
     "output_type": "stream",
     "text": [
      "C\n"
     ]
    }
   ],
   "source": [
    "# greatest of 3 \n",
    "\n",
    "a = int(input(\"Enter\"))\n",
    "b = int(input(\"Enter\"))\n",
    "c = int(input(\"Enter\"))\n",
    "\n",
    "if a > b :\n",
    "    if a > c :\n",
    "        print(\"A\")\n",
    "    else : \n",
    "        print(\"C\")\n",
    "else :\n",
    "    print(\"B\")"
   ]
  },
  {
   "cell_type": "code",
   "execution_count": 25,
   "metadata": {},
   "outputs": [
    {
     "name": "stdout",
     "output_type": "stream",
     "text": [
      "Leap year\n"
     ]
    }
   ],
   "source": [
    "# leap year \n",
    "\n",
    "year = int(input(\"Enter Year :\"))\n",
    "if year > 0 :\n",
    "    if year % 4 == 0 :\n",
    "        print(\"Leap year\")\n",
    "    else :\n",
    "        print(\"Not a leap year\")\n",
    "else :\n",
    "    print(\"Not a year\")"
   ]
  },
  {
   "cell_type": "code",
   "execution_count": 28,
   "metadata": {},
   "outputs": [
    {
     "name": "stdout",
     "output_type": "stream",
     "text": [
      "Zero Division Error \n"
     ]
    }
   ],
   "source": [
    "# calculator \n",
    "\n",
    "a = int(input(\"Enter a \"))\n",
    "b = int(input(\"Enter b \"))\n",
    "op = input(\"Enter operator \")\n",
    "\n",
    "if op == \"+\":\n",
    "    print(a + b )\n",
    "elif op == \"-\":\n",
    "    print(a-b)\n",
    "elif op == \"*\":\n",
    "    print(a*b)\n",
    "elif op == \"/\":\n",
    "    if b == 0 :\n",
    "        print(\"Zero Division Error \")\n",
    "    else :\n",
    "        print(a / b)\n",
    "else :\n",
    "    print(\"Wrong Input \")"
   ]
  },
  {
   "cell_type": "code",
   "execution_count": null,
   "metadata": {},
   "outputs": [],
   "source": []
  }
 ],
 "metadata": {
  "kernelspec": {
   "display_name": "base",
   "language": "python",
   "name": "python3"
  },
  "language_info": {
   "codemirror_mode": {
    "name": "ipython",
    "version": 3
   },
   "file_extension": ".py",
   "mimetype": "text/x-python",
   "name": "python",
   "nbconvert_exporter": "python",
   "pygments_lexer": "ipython3",
   "version": "3.11.4"
  }
 },
 "nbformat": 4,
 "nbformat_minor": 2
}
