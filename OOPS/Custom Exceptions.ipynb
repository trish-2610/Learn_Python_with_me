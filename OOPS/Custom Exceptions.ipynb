{
 "cells": [
  {
   "cell_type": "code",
   "execution_count": 1,
   "metadata": {},
   "outputs": [],
   "source": [
    "## Custom Exception (Raise and throw an exception )"
   ]
  },
  {
   "cell_type": "code",
   "execution_count": 10,
   "metadata": {},
   "outputs": [
    {
     "name": "stdout",
     "output_type": "stream",
     "text": [
      "hello\n"
     ]
    }
   ],
   "source": [
    "class Error(Exception):\n",
    "    pass\n",
    "class dobException(Exception):\n",
    "    pass"
   ]
  },
  {
   "cell_type": "code",
   "execution_count": 11,
   "metadata": {},
   "outputs": [
    {
     "name": "stdout",
     "output_type": "stream",
     "text": [
      "144  Not eligible\n"
     ]
    }
   ],
   "source": [
    "year = int(input(\"Enter your dob (year)\"))\n",
    "age = 2024 - year\n",
    "\n",
    "try :\n",
    "    if age >= 20 and age <= 30:\n",
    "        print(f\"{age} , Eligible\")\n",
    "    else :\n",
    "        raise dobException\n",
    "except dobException :\n",
    "    print(age, \" Not eligible\")"
   ]
  },
  {
   "cell_type": "code",
   "execution_count": 13,
   "metadata": {},
   "outputs": [],
   "source": [
    "class ZeroDivisionError(Exception):\n",
    "    pass "
   ]
  },
  {
   "cell_type": "code",
   "execution_count": 17,
   "metadata": {},
   "outputs": [
    {
     "name": "stdout",
     "output_type": "stream",
     "text": [
      "1.0\n"
     ]
    }
   ],
   "source": [
    "a = int(input(\"Enter number\"))\n",
    "try :\n",
    "    if a != 0:\n",
    "        result = 2 / a\n",
    "        print(result)\n",
    "    else :\n",
    "        raise ZeroDivisionError\n",
    "except ZeroDivisionError :\n",
    "    print(\"Infinite\")"
   ]
  },
  {
   "cell_type": "code",
   "execution_count": null,
   "metadata": {},
   "outputs": [],
   "source": []
  }
 ],
 "metadata": {
  "kernelspec": {
   "display_name": "base",
   "language": "python",
   "name": "python3"
  },
  "language_info": {
   "codemirror_mode": {
    "name": "ipython",
    "version": 3
   },
   "file_extension": ".py",
   "mimetype": "text/x-python",
   "name": "python",
   "nbconvert_exporter": "python",
   "pygments_lexer": "ipython3",
   "version": "3.11.4"
  }
 },
 "nbformat": 4,
 "nbformat_minor": 2
}
