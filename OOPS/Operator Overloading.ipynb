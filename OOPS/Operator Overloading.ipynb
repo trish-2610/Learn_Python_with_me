{
 "cells": [
  {
   "cell_type": "code",
   "execution_count": 1,
   "metadata": {},
   "outputs": [],
   "source": [
    "## Operator overloading allows you to define behavior of operators(+,-,...) for custom objects "
   ]
  },
  {
   "cell_type": "code",
   "execution_count": 1,
   "metadata": {},
   "outputs": [
    {
     "data": {
      "text/plain": [
       "'\"Operator Overloading methods \\n__add__(self,other) - it adds teo objects using + operator \\n__sub__(self,other) - subtract\\n__eq__(self,other) - ==\\n__mul__(self,other) - *\\n'"
      ]
     },
     "execution_count": 1,
     "metadata": {},
     "output_type": "execute_result"
    }
   ],
   "source": [
    "'''\"Operator Overloading methods \n",
    "__add__(self,other) - it adds to objects using + operator \n",
    "__sub__(self,other) - subtract\n",
    "__eq__(self,other) - ==\n",
    "__mul__(self,other) - *\n",
    "__truediv__ - /\n",
    "__gt__ - >\n",
    "__lt__ - <\n",
    "'''"
   ]
  },
  {
   "cell_type": "code",
   "execution_count": 19,
   "metadata": {},
   "outputs": [],
   "source": [
    "class Vector :\n",
    "    def __init__(self,x,y):\n",
    "        self.x = x \n",
    "        self.y = y \n",
    "\n",
    "    def __add__(self,other):\n",
    "        return Vector(self.x+other.x,self.y+other.y)\n",
    "    \n",
    "    def __sub__(self,other):\n",
    "        return Vector(self.x-other.x,self.y-other.y)\n",
    "    \n",
    "    def __mul__(self,other):\n",
    "        return Vector(self.x * other.x,self.y * other.y)\n",
    "    \n",
    "    def __eq__(self,other):\n",
    "        return self.x == other.x and self.y == other.y\n",
    "    \n",
    "    def __repr__(self):\n",
    "        return f\"Vector({self.x},{self.y})\""
   ]
  },
  {
   "cell_type": "code",
   "execution_count": 20,
   "metadata": {},
   "outputs": [
    {
     "name": "stdout",
     "output_type": "stream",
     "text": [
      "Vector(6,8)\n"
     ]
    }
   ],
   "source": [
    "v1 = Vector(2,3) ## self.x,self.y\n",
    "v2 = Vector(4,5) ## other.x,other.y\n",
    "print(v1+v2)"
   ]
  },
  {
   "cell_type": "code",
   "execution_count": 21,
   "metadata": {},
   "outputs": [
    {
     "name": "stdout",
     "output_type": "stream",
     "text": [
      "Vector(-2,-2)\n"
     ]
    }
   ],
   "source": [
    "print(v1-v2)"
   ]
  },
  {
   "cell_type": "code",
   "execution_count": 23,
   "metadata": {},
   "outputs": [
    {
     "name": "stdout",
     "output_type": "stream",
     "text": [
      "Vector(8,15)\n"
     ]
    }
   ],
   "source": [
    "print(v1*v2)"
   ]
  },
  {
   "cell_type": "code",
   "execution_count": 25,
   "metadata": {},
   "outputs": [
    {
     "name": "stdout",
     "output_type": "stream",
     "text": [
      "False\n"
     ]
    }
   ],
   "source": [
    "print(v1==v2)"
   ]
  },
  {
   "cell_type": "code",
   "execution_count": 4,
   "metadata": {},
   "outputs": [],
   "source": [
    "## Mathematical Operations (Calculator)\n",
    "\n",
    "class Cal :\n",
    "    def __init__(self,x,y,z):\n",
    "        self.x = x \n",
    "        self.y = y \n",
    "        self.z = z \n",
    "    def __add__(self,other):\n",
    "        return Cal(self.x+other.x,self.y+other.y,self.z+other.z)\n",
    "    def __sub__(self,other):\n",
    "        return Cal(self.x-other.x,self.y-other.y,self.z-other.z)\n",
    "    def __mul__(self,other):\n",
    "        return Cal(self.x*other.x,self.y*other.y,self.z*other.z)\n",
    "    def __truediv__(self,other):\n",
    "        return Cal(self.x/other.x,self.y/other.y,self.z/other.z)\n",
    "    def __eq__(self,other):\n",
    "        return self.x == other.x and self.y == other.y and self.z == other.z\n",
    "    def __gt__(self,other):\n",
    "        return self.x > other.x and self.y > other.y and self.z > other.z\n",
    "    def __lt__(self,other):\n",
    "        return self.x < other.x and self.y < other.y and self.z < other.z\n",
    "    def __repr__(self):\n",
    "        return f\"Vector({self.x},{self.y},{self.z})\"\n",
    "    \n",
    "v1 = Cal(1,2,3)\n",
    "v2 = Cal(4,5,6)\n"
   ]
  },
  {
   "cell_type": "code",
   "execution_count": 5,
   "metadata": {},
   "outputs": [
    {
     "name": "stdout",
     "output_type": "stream",
     "text": [
      "Vector(5,7,9)\n",
      "Vector(-3,-3,-3)\n",
      "Vector(4,10,18)\n",
      "Vector(0.25,0.4,0.5)\n"
     ]
    }
   ],
   "source": [
    "print(v1+v2)\n",
    "print(v1-v2)\n",
    "print(v1*v2)\n",
    "print(v1/v2)"
   ]
  },
  {
   "cell_type": "code",
   "execution_count": 6,
   "metadata": {},
   "outputs": [
    {
     "name": "stdout",
     "output_type": "stream",
     "text": [
      "False\n",
      "False\n",
      "True\n"
     ]
    }
   ],
   "source": [
    "print(v1==v2)\n",
    "print(v1>v2)\n",
    "print(v1<v2)"
   ]
  },
  {
   "cell_type": "code",
   "execution_count": null,
   "metadata": {},
   "outputs": [],
   "source": []
  },
  {
   "cell_type": "code",
   "execution_count": null,
   "metadata": {},
   "outputs": [],
   "source": []
  }
 ],
 "metadata": {
  "kernelspec": {
   "display_name": "base",
   "language": "python",
   "name": "python3"
  },
  "language_info": {
   "codemirror_mode": {
    "name": "ipython",
    "version": 3
   },
   "file_extension": ".py",
   "mimetype": "text/x-python",
   "name": "python",
   "nbconvert_exporter": "python",
   "pygments_lexer": "ipython3",
   "version": "3.11.4"
  }
 },
 "nbformat": 4,
 "nbformat_minor": 2
}
