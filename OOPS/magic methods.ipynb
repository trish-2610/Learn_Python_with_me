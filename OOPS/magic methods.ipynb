{
 "cells": [
  {
   "cell_type": "code",
   "execution_count": 1,
   "metadata": {},
   "outputs": [],
   "source": [
    "## magic methods are also known as dunder (double underscore methods) that is used to define\n",
    "## behavior of objects for built-in methods such as arithmetic ,comparison operations \n",
    "\n",
    "class Person:\n",
    "    def __init__(self,name):\n",
    "        self.name = name \n",
    "person = Person(\"Krish\")"
   ]
  },
  {
   "cell_type": "code",
   "execution_count": 2,
   "metadata": {},
   "outputs": [
    {
     "data": {
      "text/plain": [
       "['__class__',\n",
       " '__delattr__',\n",
       " '__dict__',\n",
       " '__dir__',\n",
       " '__doc__',\n",
       " '__eq__',\n",
       " '__format__',\n",
       " '__ge__',\n",
       " '__getattribute__',\n",
       " '__getstate__',\n",
       " '__gt__',\n",
       " '__hash__',\n",
       " '__init__',\n",
       " '__init_subclass__',\n",
       " '__le__',\n",
       " '__lt__',\n",
       " '__module__',\n",
       " '__ne__',\n",
       " '__new__',\n",
       " '__reduce__',\n",
       " '__reduce_ex__',\n",
       " '__repr__',\n",
       " '__setattr__',\n",
       " '__sizeof__',\n",
       " '__str__',\n",
       " '__subclasshook__',\n",
       " '__weakref__',\n",
       " 'name']"
      ]
     },
     "execution_count": 2,
     "metadata": {},
     "output_type": "execute_result"
    }
   ],
   "source": [
    "dir(person)"
   ]
  },
  {
   "cell_type": "code",
   "execution_count": 3,
   "metadata": {},
   "outputs": [
    {
     "data": {
      "text/plain": [
       "\"['__class__',\\n '__delattr__',\\n '__dict__',\\n '__dir__',\\n '__doc__',\\n '__eq__',\\n '__format__',\\n '__ge__',\\n '__getattribute__',\\n '__getstate__',\\n '__gt__',\\n '__hash__',\\n '__init__',\\n '__init_subclass__',\\n '__le__',\\n '__lt__',\\n '__module__',\\n '__ne__',\\n '__new__',\\n '__reduce__',\\n '__reduce_ex__',\\n '__repr__',\\n '__setattr__',\\n '__sizeof__',\\n '__str__',\\n '__subclasshook__',\\n '__weakref__',\\n 'name']\""
      ]
     },
     "execution_count": 3,
     "metadata": {},
     "output_type": "execute_result"
    }
   ],
   "source": [
    "## magic methods\n",
    "'''['__class__',\n",
    " '__delattr__',\n",
    " '__dict__',\n",
    " '__dir__',\n",
    " '__doc__',\n",
    " '__eq__',\n",
    " '__format__',\n",
    " '__ge__',\n",
    " '__getattribute__',\n",
    " '__getstate__',\n",
    " '__gt__',\n",
    " '__hash__',\n",
    " '__init__',\n",
    " '__init_subclass__',\n",
    " '__le__',\n",
    " '__lt__',\n",
    " '__module__',\n",
    " '__ne__',\n",
    " '__new__',\n",
    " '__reduce__',\n",
    " '__reduce_ex__',\n",
    " '__repr__',\n",
    " '__setattr__',\n",
    " '__sizeof__',\n",
    " '__str__',\n",
    " '__subclasshook__',\n",
    " '__weakref__',\n",
    " 'name']'''"
   ]
  },
  {
   "cell_type": "code",
   "execution_count": 4,
   "metadata": {},
   "outputs": [
    {
     "name": "stdout",
     "output_type": "stream",
     "text": [
      "<__main__.Person object at 0x000001F87546E710>\n"
     ]
    }
   ],
   "source": [
    "print(person)\n",
    "## <__main__.Person object at 0x000001F87546E710>  = __str__"
   ]
  },
  {
   "cell_type": "code",
   "execution_count": 9,
   "metadata": {},
   "outputs": [
    {
     "name": "stdout",
     "output_type": "stream",
     "text": [
      "Trish and 19\n"
     ]
    }
   ],
   "source": [
    "# we can override this __str__method \n",
    "class Person:\n",
    "    def __init__(self,name,age):\n",
    "        self.name = name \n",
    "        self.age = age \n",
    "\n",
    "    def __str__(self): ## returns a string representation \n",
    "        return f\"{self.name} and {self.age}\"\n",
    "p1 = Person(\"Trish\",19)\n",
    "print(p1)"
   ]
  },
  {
   "cell_type": "code",
   "execution_count": 11,
   "metadata": {},
   "outputs": [
    {
     "name": "stdout",
     "output_type": "stream",
     "text": [
      "Magic Method Overridden\n"
     ]
    }
   ],
   "source": [
    "class Person:\n",
    "    def __init__(self,name,age):\n",
    "        self.name = name \n",
    "        self.age = age \n",
    "\n",
    "    def __str__(self): ## returns a string representation of an object\n",
    "        return f\"Magic Method Overridden\"\n",
    "p1 = Person(\"Trish\",19)\n",
    "print(p1)"
   ]
  },
  {
   "cell_type": "code",
   "execution_count": 17,
   "metadata": {},
   "outputs": [
    {
     "name": "stdout",
     "output_type": "stream",
     "text": [
      "Person(name = Trish , age = 19)\n",
      "Person(name = Trish , age = 19)\n"
     ]
    }
   ],
   "source": [
    "## __repr__ = returns an official string representation of an object\n",
    "## by which you can define the string in your own way\n",
    "class Person:\n",
    "    def __init__(self,name,age):\n",
    "        self.name = name \n",
    "        self.age = age \n",
    "\n",
    "    def __repr__(self): ## returns a official string representation of an object\n",
    "        return f\"Person(name = {self.name} , age = {self.age})\"\n",
    "p1 = Person(\"Trish\",19)\n",
    "print(p1)\n",
    "print(repr(p1))"
   ]
  },
  {
   "cell_type": "code",
   "execution_count": null,
   "metadata": {},
   "outputs": [],
   "source": []
  }
 ],
 "metadata": {
  "kernelspec": {
   "display_name": "base",
   "language": "python",
   "name": "python3"
  },
  "language_info": {
   "codemirror_mode": {
    "name": "ipython",
    "version": 3
   },
   "file_extension": ".py",
   "mimetype": "text/x-python",
   "name": "python",
   "nbconvert_exporter": "python",
   "pygments_lexer": "ipython3",
   "version": "3.11.4"
  }
 },
 "nbformat": 4,
 "nbformat_minor": 2
}
