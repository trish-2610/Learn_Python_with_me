{
 "cells": [
  {
   "cell_type": "code",
   "execution_count": 1,
   "metadata": {},
   "outputs": [],
   "source": [
    "## Polymorphism - It provides a way to perform a single action in different forms "
   ]
  },
  {
   "cell_type": "code",
   "execution_count": 2,
   "metadata": {},
   "outputs": [],
   "source": [
    "## Method Overriding \n",
    "## It allows a child class to do specific implementation of a method of a parent class"
   ]
  },
  {
   "cell_type": "code",
   "execution_count": 3,
   "metadata": {},
   "outputs": [
    {
     "name": "stdout",
     "output_type": "stream",
     "text": [
      "Woof\n",
      "Meow\n"
     ]
    }
   ],
   "source": [
    "# Base class\n",
    "class Animal:\n",
    "    def speak(self):\n",
    "        return \"Haha\"\n",
    "# Child class\n",
    "class Dog(Animal):\n",
    "    def speak(self):\n",
    "        return \"Woof\"\n",
    "#child class \n",
    "class Cat(Animal):\n",
    "    def speak(self):\n",
    "        return \"Meow\"\n",
    "    \n",
    "dog = Dog()\n",
    "print(dog.speak())\n",
    "cat = Cat()\n",
    "print(cat.speak())"
   ]
  },
  {
   "cell_type": "code",
   "execution_count": 4,
   "metadata": {},
   "outputs": [],
   "source": [
    "## Polymorphism \n",
    "def animal_sound(animal):\n",
    "    print(animal.speak())"
   ]
  },
  {
   "cell_type": "code",
   "execution_count": 5,
   "metadata": {},
   "outputs": [
    {
     "name": "stdout",
     "output_type": "stream",
     "text": [
      "Woof\n"
     ]
    }
   ],
   "source": [
    "animal_sound(dog)"
   ]
  },
  {
   "cell_type": "code",
   "execution_count": 6,
   "metadata": {},
   "outputs": [
    {
     "name": "stdout",
     "output_type": "stream",
     "text": [
      "Meow\n"
     ]
    }
   ],
   "source": [
    "animal_sound(cat)"
   ]
  },
  {
   "cell_type": "code",
   "execution_count": 8,
   "metadata": {},
   "outputs": [
    {
     "name": "stdout",
     "output_type": "stream",
     "text": [
      "BMW120\n",
      "Audi45\n",
      "XMB3\n"
     ]
    }
   ],
   "source": [
    "class Car :\n",
    "    def model(self):\n",
    "        return \"XMB3\"\n",
    "class BMW(Car):\n",
    "    def model(self):\n",
    "        return \"BMW120\"\n",
    "class Audi(Car):\n",
    "    def model(self):\n",
    "        return \"Audi45\"\n",
    "car1 = BMW()\n",
    "car2 = Audi()\n",
    "print(car1.model())\n",
    "print(car2.model())\n",
    "car3 = Car()\n",
    "print(car3.model())"
   ]
  },
  {
   "cell_type": "code",
   "execution_count": 11,
   "metadata": {},
   "outputs": [],
   "source": [
    "def car_design(name):\n",
    "    print(name.model())"
   ]
  },
  {
   "cell_type": "code",
   "execution_count": 12,
   "metadata": {},
   "outputs": [
    {
     "name": "stdout",
     "output_type": "stream",
     "text": [
      "BMW120\n"
     ]
    }
   ],
   "source": [
    "car_design(car1)"
   ]
  },
  {
   "cell_type": "code",
   "execution_count": 14,
   "metadata": {},
   "outputs": [
    {
     "name": "stdout",
     "output_type": "stream",
     "text": [
      "Audi45\n"
     ]
    }
   ],
   "source": [
    "car_design(car2)"
   ]
  },
  {
   "cell_type": "code",
   "execution_count": 1,
   "metadata": {},
   "outputs": [
    {
     "name": "stdout",
     "output_type": "stream",
     "text": [
      "28.274333882308138\n"
     ]
    }
   ],
   "source": [
    "from math import pi \n",
    "class Shape:\n",
    "    def area(self):\n",
    "        return \"Area\"\n",
    "    \n",
    "class Circle(Shape):\n",
    "    def __init__(self,radius):\n",
    "        self.radius = radius\n",
    "        \n",
    "    def area(self):\n",
    "        return (pi * self.radius * self.radius)\n",
    "    \n",
    "class Square(Shape):\n",
    "    def __init__(self,length):\n",
    "        self.length = length\n",
    "    def area(self):\n",
    "        return self.length*self.length\n",
    "\n",
    "circle = Circle(3)\n",
    "square = Square(2)\n",
    "\n",
    "print(circle.area())\n"
   ]
  },
  {
   "cell_type": "code",
   "execution_count": 2,
   "metadata": {},
   "outputs": [
    {
     "name": "stdout",
     "output_type": "stream",
     "text": [
      "28.274333882308138\n",
      "4\n"
     ]
    }
   ],
   "source": [
    "def area_shape(shape):\n",
    "    print(shape.area())\n",
    "\n",
    "area_shape(circle)\n",
    "area_shape(square)"
   ]
  },
  {
   "cell_type": "code",
   "execution_count": 3,
   "metadata": {},
   "outputs": [],
   "source": [
    "## Polymorphism with abstract base class - complete empty class\n",
    "from abc import ABC , abstractmethod\n",
    "class Vehicle(ABC):\n",
    "    @abstractmethod\n",
    "    def start_engine(self):\n",
    "        print(\"Start\")\n",
    "class Car(Vehicle):\n",
    "    def start_engine(self):\n",
    "        print(\"Car engine started\")\n",
    "class Auto(Vehicle):\n",
    "    def start_engine(self):\n",
    "        print(\"Auto engine started\")\n",
    "\n",
    "def start(start):\n",
    "    print(start.start_engine())"
   ]
  },
  {
   "cell_type": "code",
   "execution_count": 4,
   "metadata": {},
   "outputs": [
    {
     "name": "stdout",
     "output_type": "stream",
     "text": [
      "Car engine started\n",
      "None\n",
      "Auto engine started\n",
      "None\n"
     ]
    }
   ],
   "source": [
    "car = Car()\n",
    "auto = Auto()\n",
    "start(car)\n",
    "start(auto)"
   ]
  },
  {
   "cell_type": "code",
   "execution_count": 2,
   "metadata": {},
   "outputs": [
    {
     "name": "stdout",
     "output_type": "stream",
     "text": [
      "Hello\n"
     ]
    }
   ],
   "source": [
    "from abc import ABC , abstractmethod\n",
    "class A(ABC):\n",
    "    @abstractmethod\n",
    "    def fun(self):\n",
    "        pass\n",
    "class B(A):\n",
    "    def fun(self):\n",
    "        print(\"Hello\")\n",
    "a = B()\n",
    "a.fun()"
   ]
  },
  {
   "cell_type": "code",
   "execution_count": null,
   "metadata": {},
   "outputs": [],
   "source": []
  }
 ],
 "metadata": {
  "kernelspec": {
   "display_name": "base",
   "language": "python",
   "name": "python3"
  },
  "language_info": {
   "codemirror_mode": {
    "name": "ipython",
    "version": 3
   },
   "file_extension": ".py",
   "mimetype": "text/x-python",
   "name": "python",
   "nbconvert_exporter": "python",
   "pygments_lexer": "ipython3",
   "version": "3.11.4"
  }
 },
 "nbformat": 4,
 "nbformat_minor": 2
}
