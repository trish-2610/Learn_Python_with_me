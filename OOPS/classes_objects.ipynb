{
 "cells": [
  {
   "cell_type": "code",
   "execution_count": 1,
   "metadata": {},
   "outputs": [],
   "source": [
    "## A class is a blueprint of creating objects \n",
    "class Car : # class\n",
    "    pass \n",
    "audi = Car() #object\n",
    "bmw = Car() #object"
   ]
  },
  {
   "cell_type": "code",
   "execution_count": 4,
   "metadata": {},
   "outputs": [
    {
     "name": "stdout",
     "output_type": "stream",
     "text": [
      "fruit\n",
      "<class 'type'>\n",
      "<class '__main__.Fruits'>\n"
     ]
    }
   ],
   "source": [
    "class Fruits :\n",
    "    print(\"fruit\")\n",
    "banana = Fruits()\n",
    "apple = Fruits()\n",
    "\n",
    "print(type(Car))\n",
    "print(type(banana))"
   ]
  },
  {
   "cell_type": "code",
   "execution_count": 5,
   "metadata": {},
   "outputs": [
    {
     "name": "stdout",
     "output_type": "stream",
     "text": [
      "<__main__.Car object at 0x000001CA6B41E150>\n"
     ]
    }
   ],
   "source": [
    "print(audi)"
   ]
  },
  {
   "cell_type": "code",
   "execution_count": 6,
   "metadata": {},
   "outputs": [
    {
     "name": "stdout",
     "output_type": "stream",
     "text": [
      "<__main__.Car object at 0x000001CA6B41E8D0>\n"
     ]
    }
   ],
   "source": [
    "print(bmw)"
   ]
  },
  {
   "cell_type": "code",
   "execution_count": 7,
   "metadata": {},
   "outputs": [
    {
     "name": "stdout",
     "output_type": "stream",
     "text": [
      "4\n"
     ]
    }
   ],
   "source": [
    "bmw.windows=4 ## attribute \n",
    "print(bmw.windows)"
   ]
  },
  {
   "cell_type": "code",
   "execution_count": 8,
   "metadata": {},
   "outputs": [
    {
     "data": {
      "text/plain": [
       "['__class__',\n",
       " '__delattr__',\n",
       " '__dict__',\n",
       " '__dir__',\n",
       " '__doc__',\n",
       " '__eq__',\n",
       " '__format__',\n",
       " '__ge__',\n",
       " '__getattribute__',\n",
       " '__getstate__',\n",
       " '__gt__',\n",
       " '__hash__',\n",
       " '__init__',\n",
       " '__init_subclass__',\n",
       " '__le__',\n",
       " '__lt__',\n",
       " '__module__',\n",
       " '__ne__',\n",
       " '__new__',\n",
       " '__reduce__',\n",
       " '__reduce_ex__',\n",
       " '__repr__',\n",
       " '__setattr__',\n",
       " '__sizeof__',\n",
       " '__str__',\n",
       " '__subclasshook__',\n",
       " '__weakref__']"
      ]
     },
     "execution_count": 8,
     "metadata": {},
     "output_type": "execute_result"
    }
   ],
   "source": [
    "dir(Car) # directory"
   ]
  },
  {
   "cell_type": "code",
   "execution_count": 9,
   "metadata": {},
   "outputs": [
    {
     "data": {
      "text/plain": [
       "['__class__',\n",
       " '__delattr__',\n",
       " '__dict__',\n",
       " '__dir__',\n",
       " '__doc__',\n",
       " '__eq__',\n",
       " '__format__',\n",
       " '__ge__',\n",
       " '__getattribute__',\n",
       " '__getstate__',\n",
       " '__gt__',\n",
       " '__hash__',\n",
       " '__init__',\n",
       " '__init_subclass__',\n",
       " '__le__',\n",
       " '__lt__',\n",
       " '__module__',\n",
       " '__ne__',\n",
       " '__new__',\n",
       " '__reduce__',\n",
       " '__reduce_ex__',\n",
       " '__repr__',\n",
       " '__setattr__',\n",
       " '__sizeof__',\n",
       " '__str__',\n",
       " '__subclasshook__',\n",
       " '__weakref__']"
      ]
     },
     "execution_count": 9,
     "metadata": {},
     "output_type": "execute_result"
    }
   ],
   "source": [
    "dir(Fruits)"
   ]
  },
  {
   "cell_type": "code",
   "execution_count": 11,
   "metadata": {},
   "outputs": [
    {
     "name": "stdout",
     "output_type": "stream",
     "text": [
      "<__main__.Dog object at 0x000001CA6B4B6F50>\n",
      "Buddy\n",
      "3\n"
     ]
    }
   ],
   "source": [
    "## Instance variables \n",
    "class Dog :\n",
    "    # constructor \n",
    "    def __init__(self,name,age):\n",
    "        self.name = name ## self.name is an Instance variable \n",
    "        self.age = age \n",
    "dog1 = Dog(\"Buddy\" , 3 )\n",
    "print(dog1)\n",
    "print(dog1.name)\n",
    "print(dog1.age)"
   ]
  },
  {
   "cell_type": "code",
   "execution_count": 13,
   "metadata": {},
   "outputs": [
    {
     "name": "stdout",
     "output_type": "stream",
     "text": [
      "Tommy\n",
      "4\n"
     ]
    }
   ],
   "source": [
    "dog2 = Dog(\"Tommy\" , 4)\n",
    "print(dog2.name)\n",
    "print(dog2.age)"
   ]
  },
  {
   "cell_type": "code",
   "execution_count": 16,
   "metadata": {},
   "outputs": [
    {
     "name": "stdout",
     "output_type": "stream",
     "text": [
      "marks = 78 and age = 12\n"
     ]
    }
   ],
   "source": [
    "class Student :\n",
    "    def __init__(self,age,marks):\n",
    "        self.age = age\n",
    "        self.marks = marks \n",
    "stud1 = Student(12,78)\n",
    "print(f\"marks = {stud1.marks} and age = {stud1.age}\")"
   ]
  },
  {
   "cell_type": "code",
   "execution_count": 17,
   "metadata": {},
   "outputs": [
    {
     "name": "stdout",
     "output_type": "stream",
     "text": [
      "marks = 90 and age = 34\n"
     ]
    }
   ],
   "source": [
    "stud2 = Student(34,90)\n",
    "print(f\"marks = {stud2.marks} and age = {stud2.age}\")"
   ]
  },
  {
   "cell_type": "code",
   "execution_count": 18,
   "metadata": {},
   "outputs": [],
   "source": [
    "## Instance methods \n",
    "class Dog:\n",
    "    def __init__(self,name):\n",
    "        self.name = name \n",
    "    \n",
    "    def bark(self): # Instance methods\n",
    "        print(f\"{self.name} barks woof\")"
   ]
  },
  {
   "cell_type": "code",
   "execution_count": 19,
   "metadata": {},
   "outputs": [
    {
     "name": "stdout",
     "output_type": "stream",
     "text": [
      "Buddy barks woof\n"
     ]
    }
   ],
   "source": [
    "dog1 = Dog(\"Buddy\")\n",
    "dog1.bark()"
   ]
  },
  {
   "cell_type": "code",
   "execution_count": 20,
   "metadata": {},
   "outputs": [
    {
     "name": "stdout",
     "output_type": "stream",
     "text": [
      "fruit color is red\n"
     ]
    }
   ],
   "source": [
    "class Fruits :\n",
    "    def __init__(self,color):\n",
    "        self.color = color \n",
    "    def col(self):\n",
    "        print(f\"fruit color is {self.color}\")\n",
    "f1 = Fruits(\"red\")\n",
    "f1.col()"
   ]
  },
  {
   "cell_type": "code",
   "execution_count": 21,
   "metadata": {},
   "outputs": [],
   "source": [
    "## Modelling a bank account \n",
    "class BankAccount :\n",
    "    def __init__(self,owner_name,balance = 0):\n",
    "        self.owner_name = owner_name\n",
    "        self.balance =balance\n",
    "    def deposit(self,amount):\n",
    "        self.balance += amount\n",
    "        print(f\"{amount} , new balance is {self.balance}\")\n",
    "    def withdraw(self,amount):\n",
    "        self.balance -= amount \n",
    "        print(f\"{amount} , new balance is {self.balance}\")\n",
    "    def get_balance(self):\n",
    "        return(self.balance)\n",
    "\n",
    "owner1 = BankAccount(\"Trishansh\" , 2000)"
   ]
  },
  {
   "cell_type": "code",
   "execution_count": 22,
   "metadata": {},
   "outputs": [
    {
     "name": "stdout",
     "output_type": "stream",
     "text": [
      "500 , new balance is 2500\n"
     ]
    }
   ],
   "source": [
    "owner1.deposit(500)"
   ]
  },
  {
   "cell_type": "code",
   "execution_count": 23,
   "metadata": {},
   "outputs": [
    {
     "name": "stdout",
     "output_type": "stream",
     "text": [
      "1000 , new balance is 3500\n"
     ]
    }
   ],
   "source": [
    "owner1.deposit(1000)"
   ]
  },
  {
   "cell_type": "code",
   "execution_count": 24,
   "metadata": {},
   "outputs": [
    {
     "name": "stdout",
     "output_type": "stream",
     "text": [
      "400 , new balance is 3100\n"
     ]
    }
   ],
   "source": [
    "owner1.withdraw(400)"
   ]
  },
  {
   "cell_type": "code",
   "execution_count": 25,
   "metadata": {},
   "outputs": [
    {
     "name": "stdout",
     "output_type": "stream",
     "text": [
      "1000 , new balance is 2100\n"
     ]
    }
   ],
   "source": [
    "owner1.withdraw(1000)"
   ]
  },
  {
   "cell_type": "code",
   "execution_count": 26,
   "metadata": {},
   "outputs": [
    {
     "name": "stdout",
     "output_type": "stream",
     "text": [
      "2100\n"
     ]
    }
   ],
   "source": [
    "print(owner1.get_balance())"
   ]
  },
  {
   "cell_type": "code",
   "execution_count": null,
   "metadata": {},
   "outputs": [],
   "source": []
  }
 ],
 "metadata": {
  "kernelspec": {
   "display_name": "base",
   "language": "python",
   "name": "python3"
  },
  "language_info": {
   "codemirror_mode": {
    "name": "ipython",
    "version": 3
   },
   "file_extension": ".py",
   "mimetype": "text/x-python",
   "name": "python",
   "nbconvert_exporter": "python",
   "pygments_lexer": "ipython3",
   "version": "3.11.4"
  }
 },
 "nbformat": 4,
 "nbformat_minor": 2
}
