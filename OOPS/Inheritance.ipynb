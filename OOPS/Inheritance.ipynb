{
 "cells": [
  {
   "cell_type": "code",
   "execution_count": 1,
   "metadata": {},
   "outputs": [],
   "source": [
    "## Inheritance is a fundamental concept in oops that allows a class to inherit properties and characteristics (variables and methods) from another class "
   ]
  },
  {
   "cell_type": "code",
   "execution_count": 5,
   "metadata": {},
   "outputs": [
    {
     "name": "stdout",
     "output_type": "stream",
     "text": [
      "the man is driving Petrol car\n"
     ]
    }
   ],
   "source": [
    "## Single Inheritance \n",
    "# Parent Class\n",
    "class Car:\n",
    "    def __init__(self,windows,doors,engine_type):\n",
    "        self.windows = windows\n",
    "        self.doors = doors\n",
    "        self.engine_type = engine_type\n",
    "    def driving(self):\n",
    "        print(f\"the man is driving {self.engine_type} car\")\n",
    "\n",
    "car1 =Car(4,4,\"Petrol\")\n",
    "car1.driving()"
   ]
  },
  {
   "cell_type": "code",
   "execution_count": 9,
   "metadata": {},
   "outputs": [],
   "source": [
    "# Child class \n",
    "\n",
    "class Tesla(Car):\n",
    "    def __init__(self,windows,doors,engine_type,is_self_driving):\n",
    "        super().__init__(windows,doors,engine_type)\n",
    "        self.is_self_driving = is_self_driving\n",
    "    def self_driving(self):\n",
    "        print(f\"this car is self_driving : {self.is_self_driving}\")"
   ]
  },
  {
   "cell_type": "code",
   "execution_count": 11,
   "metadata": {},
   "outputs": [
    {
     "name": "stdout",
     "output_type": "stream",
     "text": [
      "this car is self_driving : True\n",
      "the man is driving Electric car\n"
     ]
    }
   ],
   "source": [
    "tesla1 = Tesla(3,4,\"Electric\",True)\n",
    "tesla1.self_driving()\n",
    "tesla1.driving()"
   ]
  },
  {
   "cell_type": "code",
   "execution_count": 9,
   "metadata": {},
   "outputs": [],
   "source": [
    "## Multiple Inheritance - when a class inherits from more than one base class \n",
    "## base class 1\n",
    "class Animal:\n",
    "    def __init__(self,name):\n",
    "        self.name=name \n",
    "\n",
    "## base class 2 \n",
    "class Pet:\n",
    "    def __init__(self,owner):\n",
    "        self.owner=owner \n",
    "dog = Animal(\"Trish\")\n",
    "do1 = Pet(\"Tommy\")"
   ]
  },
  {
   "cell_type": "code",
   "execution_count": 10,
   "metadata": {},
   "outputs": [],
   "source": [
    "class Dog(Animal,Pet): ## inheriting two base class \n",
    "    def __init__(self,name,owner):\n",
    "        Animal.__init__(self,name)\n",
    "        Pet.__init__(self,owner)\n",
    "    def speak(self):\n",
    "        print(\"Dog speaks woof\")"
   ]
  },
  {
   "cell_type": "code",
   "execution_count": 11,
   "metadata": {},
   "outputs": [
    {
     "name": "stdout",
     "output_type": "stream",
     "text": [
      "Dog speaks woof\n"
     ]
    }
   ],
   "source": [
    "dog = Dog(\"tommy\",\"Krish\")\n",
    "dog.speak()   \n",
    " "
   ]
  },
  {
   "cell_type": "code",
   "execution_count": 2,
   "metadata": {},
   "outputs": [],
   "source": [
    "class Fruits :\n",
    "    def __init__(self,name,color):\n",
    "        self.name = name \n",
    "        self.color = color\n",
    "    def fun(self):\n",
    "        print(f\"{self.name} fruit is of {self.color} color \")"
   ]
  },
  {
   "cell_type": "code",
   "execution_count": 3,
   "metadata": {},
   "outputs": [
    {
     "name": "stdout",
     "output_type": "stream",
     "text": [
      "apple fruit is of red color \n"
     ]
    }
   ],
   "source": [
    "fruit1 = Fruits(\"apple\",\"red\")\n",
    "fruit1.fun()"
   ]
  },
  {
   "cell_type": "code",
   "execution_count": 13,
   "metadata": {},
   "outputs": [
    {
     "name": "stdout",
     "output_type": "stream",
     "text": [
      "Apple fruit is of Red color \n"
     ]
    }
   ],
   "source": [
    "class Vegetables(Fruits):\n",
    "    def __init__(self,name,color,veg):\n",
    "        Fruits.__init__(self,name,color) ## when calling with class name use self \n",
    "        self.veg=veg\n",
    "Veg1 = Vegetables(\"Apple\",\"Red\",\"cabbage\")\n",
    "Veg1.fun()"
   ]
  },
  {
   "cell_type": "code",
   "execution_count": null,
   "metadata": {},
   "outputs": [],
   "source": []
  },
  {
   "cell_type": "code",
   "execution_count": null,
   "metadata": {},
   "outputs": [],
   "source": []
  }
 ],
 "metadata": {
  "kernelspec": {
   "display_name": "base",
   "language": "python",
   "name": "python3"
  },
  "language_info": {
   "codemirror_mode": {
    "name": "ipython",
    "version": 3
   },
   "file_extension": ".py",
   "mimetype": "text/x-python",
   "name": "python",
   "nbconvert_exporter": "python",
   "pygments_lexer": "ipython3",
   "version": "3.11.4"
  }
 },
 "nbformat": 4,
 "nbformat_minor": 2
}
