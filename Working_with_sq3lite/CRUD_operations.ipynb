{
 "cells": [
  {
   "cell_type": "code",
   "execution_count": 1,
   "metadata": {},
   "outputs": [],
   "source": [
    "## SQL is a complete server \n",
    "## SQLite is server-less "
   ]
  },
  {
   "cell_type": "code",
   "execution_count": 2,
   "metadata": {},
   "outputs": [],
   "source": [
    "import sqlite3"
   ]
  },
  {
   "cell_type": "code",
   "execution_count": 3,
   "metadata": {},
   "outputs": [
    {
     "data": {
      "text/plain": [
       "<sqlite3.Connection at 0x1bfd3740e50>"
      ]
     },
     "execution_count": 3,
     "metadata": {},
     "output_type": "execute_result"
    }
   ],
   "source": [
    "## Connect to an SQLite database \n",
    "connection = sqlite3.connect(\"example.db\")\n",
    "connection ## local database "
   ]
  },
  {
   "cell_type": "code",
   "execution_count": 4,
   "metadata": {},
   "outputs": [
    {
     "data": {
      "text/plain": [
       "<sqlite3.Connection at 0x1bfd3740c70>"
      ]
     },
     "execution_count": 4,
     "metadata": {},
     "output_type": "execute_result"
    }
   ],
   "source": [
    "connection_copy = sqlite3.connect(\"trishansh.db\")\n",
    "connection_copy"
   ]
  },
  {
   "cell_type": "code",
   "execution_count": 7,
   "metadata": {},
   "outputs": [
    {
     "data": {
      "text/plain": [
       "<sqlite3.Cursor at 0x1bfd37756c0>"
      ]
     },
     "execution_count": 7,
     "metadata": {},
     "output_type": "execute_result"
    }
   ],
   "source": [
    "## Creating the cursor to perform CRUD operations \n",
    "cursor = connection.cursor()\n",
    "cursor"
   ]
  },
  {
   "cell_type": "code",
   "execution_count": 9,
   "metadata": {},
   "outputs": [],
   "source": [
    "## Create Table \n",
    "cursor.execute('''\n",
    "Create Table If not exists employee(\n",
    "            id Int Primary Key,\n",
    "            name Varchar Not Null,\n",
    "            age Int ,\n",
    "            Department Varchar ) \n",
    "''')\n",
    "\n",
    "## commit the changes \n",
    "connection.commit()"
   ]
  },
  {
   "cell_type": "code",
   "execution_count": 10,
   "metadata": {},
   "outputs": [
    {
     "data": {
      "text/plain": [
       "<sqlite3.Cursor at 0x1bfd37756c0>"
      ]
     },
     "execution_count": 10,
     "metadata": {},
     "output_type": "execute_result"
    }
   ],
   "source": [
    "cursor.execute('''\n",
    "Select * from employee \n",
    "''')"
   ]
  },
  {
   "cell_type": "code",
   "execution_count": 11,
   "metadata": {},
   "outputs": [],
   "source": [
    "## insert data in sqlite table \n",
    "cursor.execute('''\n",
    "   Insert Into employee values(101,'Krish',33,'Data_Science')\n",
    "''')\n",
    "\n",
    "cursor.execute('''\n",
    "   Insert Into employee(name , age , department )\n",
    "               Values('Trishansh',20,'AI-DS')\n",
    "''')\n",
    "\n",
    "cursor.execute('''\n",
    "   Insert Into employee(name,age,department)\n",
    "               Values('Vishal',23,'Cloud')\n",
    "               ''')\n",
    "\n",
    "## commit changes \n",
    "connection.commit()"
   ]
  },
  {
   "cell_type": "code",
   "execution_count": 14,
   "metadata": {},
   "outputs": [
    {
     "name": "stdout",
     "output_type": "stream",
     "text": [
      "(101, 'Krish', 33, 'Data_Science')\n",
      "(None, 'Trishansh', 20, 'AI-DS')\n",
      "(None, 'Vishal', 23, 'Cloud')\n"
     ]
    }
   ],
   "source": [
    "## Querying the data from table \n",
    "cursor.execute('''\n",
    "Select * From employee\n",
    "''')\n",
    "\n",
    "## to fetch all the records\n",
    "rows = cursor.fetchall()\n",
    "\n",
    "## print the rows/records\n",
    "for row in rows:\n",
    "    print(row)"
   ]
  },
  {
   "cell_type": "code",
   "execution_count": 17,
   "metadata": {},
   "outputs": [],
   "source": [
    "## Complete program \n",
    "cursor.execute('''\n",
    "Create Table student(\n",
    "               Stud_id Int Primary key ,\n",
    "               Stud_name Text Not Null)\n",
    "               ''')\n",
    "\n",
    "connection.commit()"
   ]
  },
  {
   "cell_type": "code",
   "execution_count": 23,
   "metadata": {},
   "outputs": [],
   "source": [
    "## values Insertion \n",
    "cursor.execute('''\n",
    "Insert Into student values(1,'Abhay')\n",
    "               ''')\n",
    "cursor.execute('''\n",
    "Insert Into student values(2,'Atharva')\n",
    "               ''')\n",
    "cursor.execute('''\n",
    "Insert Into student values(3,'Rahul')\n",
    "               ''')\n",
    "\n",
    "connection.commit()"
   ]
  },
  {
   "cell_type": "code",
   "execution_count": 24,
   "metadata": {},
   "outputs": [
    {
     "name": "stdout",
     "output_type": "stream",
     "text": [
      "('Abhay',)\n",
      "('Atharva',)\n",
      "('Abhay',)\n",
      "('Atharva',)\n",
      "('Rahul',)\n"
     ]
    }
   ],
   "source": [
    "## select query \n",
    "cursor.execute('''\n",
    "Select Stud_name From student ''')\n",
    "\n",
    "records = cursor.fetchall()\n",
    "\n",
    "for record in records :\n",
    "    print(record)"
   ]
  },
  {
   "cell_type": "code",
   "execution_count": 25,
   "metadata": {},
   "outputs": [],
   "source": [
    "## Update data in table \n",
    "cursor.execute('''\n",
    "Update employee \n",
    "Set department = 'CS'\n",
    "Where id = 101 ''')\n",
    "\n",
    "connection.commit()"
   ]
  },
  {
   "cell_type": "code",
   "execution_count": 26,
   "metadata": {},
   "outputs": [
    {
     "name": "stdout",
     "output_type": "stream",
     "text": [
      "(101, 'Krish', 33, 'CS')\n",
      "(None, 'Trishansh', 20, 'AI-DS')\n",
      "(None, 'Vishal', 23, 'Cloud')\n"
     ]
    }
   ],
   "source": [
    "cursor.execute('''\n",
    "Select * From employee''')\n",
    "\n",
    "rows = cursor.fetchall()\n",
    "\n",
    "for i in rows :\n",
    "    print(i)"
   ]
  },
  {
   "cell_type": "code",
   "execution_count": 27,
   "metadata": {},
   "outputs": [],
   "source": [
    "## Delete the data from Table \n",
    "cursor.execute('''\n",
    "Delete From employee \n",
    "               Where name = 'Vishal'\n",
    "               ''')\n",
    "connection.commit()"
   ]
  },
  {
   "cell_type": "code",
   "execution_count": 28,
   "metadata": {},
   "outputs": [
    {
     "name": "stdout",
     "output_type": "stream",
     "text": [
      "(101, 'Krish', 33, 'CS')\n",
      "(None, 'Trishansh', 20, 'AI-DS')\n"
     ]
    }
   ],
   "source": [
    "cursor.execute('''\n",
    "Select * From employee''')\n",
    "\n",
    "rows = cursor.fetchall()\n",
    "\n",
    "for i in rows :\n",
    "    print(i)"
   ]
  },
  {
   "cell_type": "code",
   "execution_count": 29,
   "metadata": {},
   "outputs": [],
   "source": [
    "## Working with sales data \n",
    "\n",
    "## Creating database \n",
    "connection = sqlite3.connect(\"sales.db\")\n",
    "cursor = connection.cursor()\n"
   ]
  },
  {
   "cell_type": "code",
   "execution_count": 31,
   "metadata": {},
   "outputs": [],
   "source": [
    "## Create Table for sales data \n",
    "cursor.execute('''\n",
    "Create Table if not exists sales (\n",
    "    id Integer primary Key ,\n",
    "    date Text NOT NULL , \n",
    "    product Text NOT NULL , \n",
    "    sales Integer ,\n",
    "    region Text )''')\n",
    "\n",
    "## Insert data into sales table \n",
    "sales_data = [  ## for multiple insertion  ( Bulk Insertion )\n",
    "    ('2023-01-01','Product1',100,'North'),\n",
    "    ('2023-01-02','Product2',101,'South'),\n",
    "    ('2023-01-03','Product3',102,'East'),\n",
    "    ('2023-01-04','Product4',103,'South'),\n",
    "    ('2023-01-05','Product5',104,'West'),\n",
    "]\n",
    "\n",
    "cursor.executemany(''' \n",
    "Insert Into sales(date,product,sales,region)\n",
    "                   Values(?,?,?,?)''',sales_data   ## ? represents columns \n",
    ")\n",
    "\n",
    "connection.commit()"
   ]
  },
  {
   "cell_type": "code",
   "execution_count": 32,
   "metadata": {},
   "outputs": [
    {
     "name": "stdout",
     "output_type": "stream",
     "text": [
      "(1, '2023-01-01', 'Product1', 100, 'North')\n",
      "(2, '2023-01-02', 'Product2', 101, 'South')\n",
      "(3, '2023-01-03', 'Product3', 102, 'East')\n",
      "(4, '2023-01-04', 'Product4', 103, 'South')\n",
      "(5, '2023-01-05', 'Product5', 104, 'West')\n"
     ]
    }
   ],
   "source": [
    "cursor.execute(''' \n",
    "             Select * From Sales  ''')\n",
    "rows = cursor.fetchall()\n",
    "for i in rows :\n",
    "    print(i)"
   ]
  },
  {
   "cell_type": "code",
   "execution_count": 33,
   "metadata": {},
   "outputs": [],
   "source": [
    "## Close the connection \n",
    "connection.close()"
   ]
  },
  {
   "cell_type": "code",
   "execution_count": 36,
   "metadata": {},
   "outputs": [],
   "source": [
    "# cursor.execute(''' \n",
    "#              Select * From Sales  ''')\n",
    "# rows = cursor.fetchall()\n",
    "# for i in rows :\n",
    "#     print(i)\n",
    "\n",
    "# ERROR : Closed Connection "
   ]
  },
  {
   "cell_type": "code",
   "execution_count": null,
   "metadata": {},
   "outputs": [],
   "source": []
  }
 ],
 "metadata": {
  "kernelspec": {
   "display_name": "Python 3",
   "language": "python",
   "name": "python3"
  },
  "language_info": {
   "codemirror_mode": {
    "name": "ipython",
    "version": 3
   },
   "file_extension": ".py",
   "mimetype": "text/x-python",
   "name": "python",
   "nbconvert_exporter": "python",
   "pygments_lexer": "ipython3",
   "version": "3.11.1"
  }
 },
 "nbformat": 4,
 "nbformat_minor": 2
}
