{
 "cells": [
  {
   "cell_type": "code",
   "execution_count": 1,
   "metadata": {},
   "outputs": [],
   "source": [
    "import sqlite3"
   ]
  },
  {
   "cell_type": "code",
   "execution_count": 2,
   "metadata": {},
   "outputs": [],
   "source": [
    "connection = sqlite3.connect('test.db')"
   ]
  },
  {
   "cell_type": "code",
   "execution_count": 3,
   "metadata": {},
   "outputs": [],
   "source": [
    "cursor = connection.cursor()"
   ]
  },
  {
   "cell_type": "code",
   "execution_count": 4,
   "metadata": {},
   "outputs": [],
   "source": [
    "cursor.execute(''' \n",
    "Create table employees(\n",
    "               id Integer Primary Key ,\n",
    "               name Text Not Null , \n",
    "               age Integer ,\n",
    "               department Text\n",
    "               )''')\n",
    "\n",
    "connection.commit()"
   ]
  },
  {
   "cell_type": "code",
   "execution_count": 5,
   "metadata": {},
   "outputs": [],
   "source": [
    "employee_data = [\n",
    "    ('A',20,'CS'),\n",
    "    ('B',13,'ICS'),\n",
    "    ('C',45,'CS'),\n",
    "    ('D',23,'IT'),\n",
    "    ('E',30,'CS'),    \n",
    "]\n",
    "\n",
    "cursor.executemany(''' \n",
    "                   Insert Into employees(name,age,department) \n",
    "                   Values(?,?,?)''', employee_data)\n",
    "\n",
    "connection.commit()"
   ]
  },
  {
   "cell_type": "code",
   "execution_count": 7,
   "metadata": {},
   "outputs": [
    {
     "name": "stdout",
     "output_type": "stream",
     "text": [
      "(1, 'A', 20, 'CS')\n",
      "(3, 'C', 45, 'CS')\n",
      "(5, 'E', 30, 'CS')\n"
     ]
    }
   ],
   "source": [
    "cursor.execute('''\n",
    "Select * From employees Where department = 'CS' ''')\n",
    "\n",
    "rows = cursor.fetchall()\n",
    "\n",
    "for i in rows : \n",
    "    print(i)"
   ]
  },
  {
   "cell_type": "code",
   "execution_count": 8,
   "metadata": {},
   "outputs": [],
   "source": [
    "cursor.execute(''' \n",
    "Update employees Set department = 'IT' Where id = 1 ''')\n",
    "\n",
    "connection.commit()"
   ]
  },
  {
   "cell_type": "code",
   "execution_count": 9,
   "metadata": {},
   "outputs": [
    {
     "name": "stdout",
     "output_type": "stream",
     "text": [
      "(1, 'A', 20, 'IT')\n",
      "(2, 'B', 13, 'ICS')\n",
      "(3, 'C', 45, 'CS')\n",
      "(4, 'D', 23, 'IT')\n",
      "(5, 'E', 30, 'CS')\n"
     ]
    }
   ],
   "source": [
    "cursor.execute('''\n",
    "Select * From employees  ''')\n",
    "\n",
    "rows = cursor.fetchall()\n",
    "\n",
    "for i in rows : \n",
    "    print(i)\n"
   ]
  },
  {
   "cell_type": "code",
   "execution_count": 10,
   "metadata": {},
   "outputs": [],
   "source": [
    "cursor.execute('''\n",
    "               Delete From employees \n",
    "               Where id = 1 ''')\n",
    "connection.commit()"
   ]
  },
  {
   "cell_type": "code",
   "execution_count": 11,
   "metadata": {},
   "outputs": [
    {
     "name": "stdout",
     "output_type": "stream",
     "text": [
      "(2, 'B', 13, 'ICS')\n",
      "(3, 'C', 45, 'CS')\n",
      "(4, 'D', 23, 'IT')\n",
      "(5, 'E', 30, 'CS')\n"
     ]
    }
   ],
   "source": [
    "cursor.execute('''\n",
    "Select * From employees  ''')\n",
    "\n",
    "rows = cursor.fetchall()\n",
    "\n",
    "for i in rows : \n",
    "    print(i)"
   ]
  },
  {
   "cell_type": "code",
   "execution_count": 12,
   "metadata": {},
   "outputs": [],
   "source": [
    "connection.close()"
   ]
  },
  {
   "cell_type": "code",
   "execution_count": null,
   "metadata": {},
   "outputs": [],
   "source": []
  },
  {
   "cell_type": "code",
   "execution_count": null,
   "metadata": {},
   "outputs": [],
   "source": []
  },
  {
   "cell_type": "code",
   "execution_count": null,
   "metadata": {},
   "outputs": [],
   "source": []
  }
 ],
 "metadata": {
  "kernelspec": {
   "display_name": "Python 3",
   "language": "python",
   "name": "python3"
  },
  "language_info": {
   "codemirror_mode": {
    "name": "ipython",
    "version": 3
   },
   "file_extension": ".py",
   "mimetype": "text/x-python",
   "name": "python",
   "nbconvert_exporter": "python",
   "pygments_lexer": "ipython3",
   "version": "3.11.1"
  }
 },
 "nbformat": 4,
 "nbformat_minor": 2
}
