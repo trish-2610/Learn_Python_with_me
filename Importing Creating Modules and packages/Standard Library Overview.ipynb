{
 "cells": [
  {
   "cell_type": "code",
   "execution_count": 1,
   "metadata": {},
   "outputs": [
    {
     "name": "stdout",
     "output_type": "stream",
     "text": [
      "array('i', [1, 2, 3, 4, 5]) <class 'array.array'>\n"
     ]
    }
   ],
   "source": [
    "## Python standard library is a vast collection of modules and packages \n",
    "\n",
    "## array \n",
    "import array \n",
    "arr = array.array(\"i\",[1,2,3,4,5])\n",
    "print(arr , type(arr))"
   ]
  },
  {
   "cell_type": "code",
   "execution_count": 7,
   "metadata": {},
   "outputs": [
    {
     "name": "stdout",
     "output_type": "stream",
     "text": [
      "10\n",
      "1\n"
     ]
    }
   ],
   "source": [
    "## random \n",
    "import random \n",
    "print(random.randint(1,10))\n",
    "print(random.choice([1,2,3,4,5]))"
   ]
  },
  {
   "cell_type": "code",
   "execution_count": 14,
   "metadata": {},
   "outputs": [
    {
     "name": "stdout",
     "output_type": "stream",
     "text": [
      "1\n",
      "strawberry\n"
     ]
    }
   ],
   "source": [
    "import random\n",
    "print(random.randint(1,5))\n",
    "print(random.choice([\"apple\",\"banana\",\"cherry\",\"strawberry\"]))"
   ]
  },
  {
   "cell_type": "code",
   "execution_count": 16,
   "metadata": {},
   "outputs": [
    {
     "name": "stdout",
     "output_type": "stream",
     "text": [
      "f:\\Udemy Course\\Importing Creating Modukes and packages\n"
     ]
    }
   ],
   "source": [
    "## File and directory access \n",
    "import os\n",
    "print(os.getcwd())"
   ]
  },
  {
   "cell_type": "code",
   "execution_count": 17,
   "metadata": {},
   "outputs": [],
   "source": [
    "os.makedirs(\"test_directory\")"
   ]
  },
  {
   "cell_type": "code",
   "execution_count": 18,
   "metadata": {},
   "outputs": [],
   "source": [
    "os.makedirs(\"Trishansh\")"
   ]
  },
  {
   "cell_type": "code",
   "execution_count": 1,
   "metadata": {},
   "outputs": [
    {
     "data": {
      "text/plain": [
       "'destination.text'"
      ]
     },
     "execution_count": 1,
     "metadata": {},
     "output_type": "execute_result"
    }
   ],
   "source": [
    "## High level operation on files \n",
    "import shutil\n",
    "shutil.copyfile(\"source.txt\",\"destination.text\")"
   ]
  },
  {
   "cell_type": "code",
   "execution_count": 2,
   "metadata": {},
   "outputs": [
    {
     "data": {
      "text/plain": [
       "'2nd_destination.txt'"
      ]
     },
     "execution_count": 2,
     "metadata": {},
     "output_type": "execute_result"
    }
   ],
   "source": [
    "import shutil\n",
    "shutil.copyfile(\"destination.text\",\"2nd_destination.txt\")"
   ]
  },
  {
   "cell_type": "code",
   "execution_count": 4,
   "metadata": {},
   "outputs": [
    {
     "name": "stdout",
     "output_type": "stream",
     "text": [
      "{\"name\": \"krish\", \"age\": 32} <class 'str'>\n"
     ]
    }
   ],
   "source": [
    "## Data Serialization \n",
    "\n",
    "import json\n",
    "dict1 = {\"name\":\"krish\" , \"age\":32}\n",
    "json_str = json.dumps(dict1) # dict to json\n",
    "print(json_str,type(json_str)) "
   ]
  },
  {
   "cell_type": "code",
   "execution_count": 5,
   "metadata": {},
   "outputs": [
    {
     "name": "stdout",
     "output_type": "stream",
     "text": [
      "{'name': 'krish', 'age': 32} <class 'dict'>\n"
     ]
    }
   ],
   "source": [
    "# json to dictionary \n",
    "json_dict = json.loads(json_str)\n",
    "print(json_dict,type(json_dict))"
   ]
  },
  {
   "cell_type": "code",
   "execution_count": 8,
   "metadata": {},
   "outputs": [
    {
     "name": "stdout",
     "output_type": "stream",
     "text": [
      "['name', 'age']\n",
      "['Rohan', '12']\n"
     ]
    }
   ],
   "source": [
    "import csv \n",
    "with open(\"example.csv\", mode = \"w\",newline = \"\") as file :\n",
    "    writer = csv.writer(file)\n",
    "    writer.writerow([\"name\",\"age\"])\n",
    "    writer.writerow([\"Rohan\",12])\n",
    "\n",
    "with open(\"example.csv\",mode=\"r\") as file :\n",
    "    reader = csv.reader(file)\n",
    "    for row in reader :\n",
    "        print(row)"
   ]
  },
  {
   "cell_type": "code",
   "execution_count": 14,
   "metadata": {},
   "outputs": [
    {
     "name": "stdout",
     "output_type": "stream",
     "text": [
      "['name', 'age']\n",
      "[]\n"
     ]
    }
   ],
   "source": [
    "import csv \n",
    "with open(\"demo.csv\",mode=\"w\") as file :\n",
    "    wr = csv.writer(file)\n",
    "    wr.writerow({\"name\":\"Ram\",\"age\":32})\n",
    "with open(\"demo.csv\",mode=\"r\") as file:\n",
    "    rd = csv.reader(file)\n",
    "    for row in rd:\n",
    "        print(row)"
   ]
  },
  {
   "cell_type": "code",
   "execution_count": 20,
   "metadata": {},
   "outputs": [
    {
     "name": "stdout",
     "output_type": "stream",
     "text": [
      "2024-07-16 12:24:25.362621\n",
      "2024-07-14 12:24:25.362621\n"
     ]
    }
   ],
   "source": [
    "## date time \n",
    "from datetime import datetime , timedelta \n",
    "now = datetime.now()\n",
    "print(now)\n",
    "diff = now - timedelta(days=2)\n",
    "print(diff)"
   ]
  },
  {
   "cell_type": "code",
   "execution_count": 21,
   "metadata": {},
   "outputs": [
    {
     "name": "stdout",
     "output_type": "stream",
     "text": [
      "1721112989.1612208\n",
      "1721112994.1628275\n"
     ]
    }
   ],
   "source": [
    "## time \n",
    "import time \n",
    "print(time.time())\n",
    "time.sleep(5)\n",
    "print(time.time())"
   ]
  },
  {
   "cell_type": "code",
   "execution_count": 22,
   "metadata": {},
   "outputs": [
    {
     "name": "stdout",
     "output_type": "stream",
     "text": [
      "hello\n",
      "Take a nap\n"
     ]
    }
   ],
   "source": [
    "print(\"hello\")\n",
    "time.sleep(10)\n",
    "print(\"Take a nap\")"
   ]
  },
  {
   "cell_type": "code",
   "execution_count": 25,
   "metadata": {},
   "outputs": [
    {
     "name": "stdout",
     "output_type": "stream",
     "text": [
      "123\n"
     ]
    }
   ],
   "source": [
    "## Regular Expression\n",
    "import re \n",
    "pattern = r'\\d+'\n",
    "text = \"There are 123 apples 456\"\n",
    "search = re.search(pattern,text)\n",
    "print(search.group())"
   ]
  },
  {
   "cell_type": "code",
   "execution_count": null,
   "metadata": {},
   "outputs": [],
   "source": []
  }
 ],
 "metadata": {
  "kernelspec": {
   "display_name": "base",
   "language": "python",
   "name": "python3"
  },
  "language_info": {
   "codemirror_mode": {
    "name": "ipython",
    "version": 3
   },
   "file_extension": ".py",
   "mimetype": "text/x-python",
   "name": "python",
   "nbconvert_exporter": "python",
   "pygments_lexer": "ipython3",
   "version": "3.11.4"
  }
 },
 "nbformat": 4,
 "nbformat_minor": 2
}
