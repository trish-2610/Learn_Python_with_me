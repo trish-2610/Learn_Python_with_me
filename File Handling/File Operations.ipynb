{
 "cells": [
  {
   "cell_type": "code",
   "execution_count": 2,
   "metadata": {},
   "outputs": [
    {
     "name": "stdout",
     "output_type": "stream",
     "text": [
      "How are you ?\n",
      "I am Good\n",
      "What about You \n",
      "man...\n"
     ]
    }
   ],
   "source": [
    "## Reading whole file \n",
    "\n",
    "with open(\"example.txt\",\"r\") as file :\n",
    "    content = file.read()\n",
    "    print(content)\n",
    "\n",
    "# FileNotFoundError: [Errno 2] No such file or directory: 'example.txt'"
   ]
  },
  {
   "cell_type": "code",
   "execution_count": 3,
   "metadata": {},
   "outputs": [
    {
     "name": "stdout",
     "output_type": "stream",
     "text": [
      "1 aaaa\n",
      "2 bbbb\n",
      "3 cccc\n",
      "\n",
      "\n",
      "4 dddd\n",
      "\n"
     ]
    }
   ],
   "source": [
    "with open(\"example2.txt\",\"r\") as file:\n",
    "    con = file.read()\n",
    "    print(con)"
   ]
  },
  {
   "cell_type": "code",
   "execution_count": 5,
   "metadata": {},
   "outputs": [
    {
     "name": "stdout",
     "output_type": "stream",
     "text": [
      "How are you ?\n",
      "I am Good\n",
      "What about You\n",
      "man...\n"
     ]
    }
   ],
   "source": [
    "## Reading a file lne by line \n",
    "with open(\"example.txt\",\"r\") as file :\n",
    "    for line in file:\n",
    "        print(line.strip()) # strip() removes new line character"
   ]
  },
  {
   "cell_type": "code",
   "execution_count": 7,
   "metadata": {},
   "outputs": [
    {
     "name": "stdout",
     "output_type": "stream",
     "text": [
      "1 aaaa\n",
      "2 bbbb\n",
      "3 cccc\n",
      "\n",
      "\n",
      "4 dddd\n"
     ]
    }
   ],
   "source": [
    "with open(\"example2.txt\",\"r\") as file :\n",
    "    for line in file:\n",
    "        print(line.strip())"
   ]
  },
  {
   "cell_type": "code",
   "execution_count": 9,
   "metadata": {},
   "outputs": [],
   "source": [
    "## writing in a file ( overwriting )\n",
    "with open(\"example.txt\",\"w\") as file:\n",
    "    file.write(\"Hello World\\n\")\n",
    "    file.write(\"Go Home \\n\")"
   ]
  },
  {
   "cell_type": "code",
   "execution_count": 10,
   "metadata": {},
   "outputs": [],
   "source": [
    "with open(\"example2.txt\",\"w\") as file :\n",
    "    file.write(\"111111\\n\")\n",
    "    file.write(\"222222\\n\")"
   ]
  },
  {
   "cell_type": "code",
   "execution_count": 12,
   "metadata": {},
   "outputs": [],
   "source": [
    "## append mode ( no overwriting )\n",
    "with open(\"example.txt\",\"a\") as file :\n",
    "    file.write(\"append mode file \\n\")"
   ]
  },
  {
   "cell_type": "code",
   "execution_count": 13,
   "metadata": {},
   "outputs": [],
   "source": [
    "with open(\"new.txt\",\"w\") as file : ## no error , new file gets created automatically\n",
    "    file.write(\"Hello to new \\n\")"
   ]
  },
  {
   "cell_type": "code",
   "execution_count": 14,
   "metadata": {},
   "outputs": [],
   "source": [
    "with open(\"new.txt\",\"a\") as file :\n",
    "    file.write(\"append\\nagain append\\n\")"
   ]
  },
  {
   "cell_type": "code",
   "execution_count": 15,
   "metadata": {},
   "outputs": [],
   "source": [
    "## writing a list of lines to a file \n",
    "lst = [ \"First line\\n\" , \"Second line\\n\" , \"Third line\\n\"]\n",
    "with open(\"new.txt\",\"a\") as file :\n",
    "    file.writelines(lst)"
   ]
  },
  {
   "cell_type": "code",
   "execution_count": 16,
   "metadata": {},
   "outputs": [],
   "source": [
    "tup = (\"apple\\n\" , \"banana\\n\" , \"strawberry\\n\")\n",
    "with open(\"new.txt\",\"a\") as file :\n",
    "    file.writelines(tup)"
   ]
  },
  {
   "cell_type": "code",
   "execution_count": 20,
   "metadata": {},
   "outputs": [],
   "source": [
    "## Binary file \n",
    "## writing in a binary file \n",
    "data = b'\\x00\\x01\\x02\\x03\\x04'\n",
    "with open(\"binary.bin\",\"wb\") as file :\n",
    "    file.write(data)"
   ]
  },
  {
   "cell_type": "code",
   "execution_count": 21,
   "metadata": {},
   "outputs": [
    {
     "name": "stdout",
     "output_type": "stream",
     "text": [
      "b'\\x00\\x01\\x02\\x03\\x04'\n"
     ]
    }
   ],
   "source": [
    "## reading in a binary file \n",
    "with open(\"binary.bin\",\"rb\") as file :\n",
    "    content = file.read()\n",
    "print(content)"
   ]
  },
  {
   "cell_type": "code",
   "execution_count": 24,
   "metadata": {},
   "outputs": [],
   "source": [
    "## Reading content from source file and writing it in destination file \n",
    "with open(\"source_file.txt\",\"r\") as source_file:\n",
    "    content = source_file.read()\n",
    "\n",
    "with open(\"destination_file.txt\",\"w\") as des_file:\n",
    "    des_file.write(content)\n",
    "\n",
    "## copying content of one file to other "
   ]
  },
  {
   "cell_type": "code",
   "execution_count": 33,
   "metadata": {},
   "outputs": [
    {
     "name": "stdout",
     "output_type": "stream",
     "text": [
      "4\n",
      "57\n",
      "10\n"
     ]
    }
   ],
   "source": [
    "## read a text file and count number of lines , words and characters \n",
    "with open(\"example.txt\",\"r\") as file :\n",
    "    content = file.readlines()\n",
    "    count = len(content)\n",
    "    char_count = sum( len(line) for line in content )\n",
    "    word_count =  sum( len(line.split()) for line in content)\n",
    "print(count)\n",
    "print(char_count)\n",
    "print(word_count)"
   ]
  },
  {
   "cell_type": "code",
   "execution_count": 40,
   "metadata": {},
   "outputs": [
    {
     "name": "stdout",
     "output_type": "stream",
     "text": [
      "Hello World \n",
      "Go to Hell\n",
      "\n"
     ]
    }
   ],
   "source": [
    "## writing and reading a file \n",
    "with open(\"new1.txt\",\"w+\") as file :\n",
    "    file.write(\"Hello World \\n\")\n",
    "    file.write(\"Go to Hell\\n\")\n",
    "\n",
    "# moving cursor to beginning \n",
    "    file.seek(0)\n",
    "\n",
    "    content = file.read()\n",
    "    print(content)\n",
    "\n"
   ]
  },
  {
   "cell_type": "code",
   "execution_count": 46,
   "metadata": {},
   "outputs": [
    {
     "data": {
      "text/plain": [
       "10"
      ]
     },
     "execution_count": 46,
     "metadata": {},
     "output_type": "execute_result"
    }
   ],
   "source": [
    "with open(\"example.txt\",\"r\") as file :\n",
    "    count = 0\n",
    "    content = file.readlines()\n",
    "    for line in content:\n",
    "        count += len(line.split())\n",
    "        \n",
    "count\n"
   ]
  },
  {
   "cell_type": "code",
   "execution_count": 49,
   "metadata": {},
   "outputs": [
    {
     "data": {
      "text/plain": [
       "4"
      ]
     },
     "execution_count": 49,
     "metadata": {},
     "output_type": "execute_result"
    }
   ],
   "source": [
    "with open(\"example.txt\",\"r\") as file :\n",
    "    count = 0\n",
    "    content = file.readlines()\n",
    "    for line in content:\n",
    "        count += 1\n",
    "count"
   ]
  },
  {
   "cell_type": "code",
   "execution_count": 53,
   "metadata": {},
   "outputs": [
    {
     "data": {
      "text/plain": [
       "57"
      ]
     },
     "execution_count": 53,
     "metadata": {},
     "output_type": "execute_result"
    }
   ],
   "source": [
    "with open(\"example.txt\",\"r\") as file :\n",
    "    count = 0\n",
    "    content = file.read()\n",
    "    for line in content:\n",
    "        count += len(line)\n",
    "count"
   ]
  },
  {
   "cell_type": "code",
   "execution_count": null,
   "metadata": {},
   "outputs": [],
   "source": []
  }
 ],
 "metadata": {
  "kernelspec": {
   "display_name": "base",
   "language": "python",
   "name": "python3"
  },
  "language_info": {
   "codemirror_mode": {
    "name": "ipython",
    "version": 3
   },
   "file_extension": ".py",
   "mimetype": "text/x-python",
   "name": "python",
   "nbconvert_exporter": "python",
   "pygments_lexer": "ipython3",
   "version": "3.11.4"
  }
 },
 "nbformat": 4,
 "nbformat_minor": 2
}
