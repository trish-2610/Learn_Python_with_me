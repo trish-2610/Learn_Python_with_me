{
 "cells": [
  {
   "cell_type": "code",
   "execution_count": 1,
   "metadata": {},
   "outputs": [
    {
     "name": "stdout",
     "output_type": "stream",
     "text": [
      "Directory Created\n"
     ]
    }
   ],
   "source": [
    "## creating a new directory \n",
    "import os \n",
    "new_directory = \"package\"\n",
    "os.mkdir(new_directory)\n",
    "print(\"Directory Created\")"
   ]
  },
  {
   "cell_type": "code",
   "execution_count": 2,
   "metadata": {},
   "outputs": [],
   "source": [
    "import os \n",
    "os.mkdir(\"package_1\")"
   ]
  },
  {
   "cell_type": "code",
   "execution_count": 4,
   "metadata": {},
   "outputs": [
    {
     "name": "stdout",
     "output_type": "stream",
     "text": [
      "['binary.bin', 'destination_file.txt', 'example.txt', 'example2.txt', 'File Operations.ipynb', 'new.txt', 'new1.txt', 'package', 'package_1', 'source_file.txt', 'Working with file paths.ipynb']\n"
     ]
    }
   ],
   "source": [
    "# listing files and directory \n",
    "items = os.listdir('.')\n",
    "print(items)"
   ]
  },
  {
   "cell_type": "code",
   "execution_count": 5,
   "metadata": {},
   "outputs": [
    {
     "data": {
      "text/plain": [
       "['binary.bin',\n",
       " 'destination_file.txt',\n",
       " 'example.txt',\n",
       " 'example2.txt',\n",
       " 'File Operations.ipynb',\n",
       " 'new.txt',\n",
       " 'new1.txt',\n",
       " 'package',\n",
       " 'package_1',\n",
       " 'source_file.txt',\n",
       " 'Working with file paths.ipynb']"
      ]
     },
     "execution_count": 5,
     "metadata": {},
     "output_type": "execute_result"
    }
   ],
   "source": [
    "os.listdir()"
   ]
  },
  {
   "cell_type": "code",
   "execution_count": 6,
   "metadata": {},
   "outputs": [
    {
     "name": "stdout",
     "output_type": "stream",
     "text": [
      "folder\\file.txt\n"
     ]
    }
   ],
   "source": [
    "## Joining paths \n",
    "dir_path = \"folder\"\n",
    "file_path = \"file.txt\"\n",
    "relative_path = os.path.join(dir_path,file_path)\n",
    "print(relative_path)"
   ]
  },
  {
   "cell_type": "code",
   "execution_count": 8,
   "metadata": {},
   "outputs": [
    {
     "data": {
      "text/plain": [
       "'f:\\\\Udemy Course\\\\File Handling\\\\folder\\\\file.txt'"
      ]
     },
     "execution_count": 8,
     "metadata": {},
     "output_type": "execute_result"
    }
   ],
   "source": [
    "full_path = os.path.join(os.getcwd(),dir_path,file_path)\n",
    "full_path"
   ]
  },
  {
   "cell_type": "code",
   "execution_count": 9,
   "metadata": {},
   "outputs": [
    {
     "data": {
      "text/plain": [
       "'f:\\\\Udemy Course\\\\File Handling'"
      ]
     },
     "execution_count": 9,
     "metadata": {},
     "output_type": "execute_result"
    }
   ],
   "source": [
    "os.getcwd()"
   ]
  },
  {
   "cell_type": "code",
   "execution_count": 10,
   "metadata": {},
   "outputs": [
    {
     "name": "stdout",
     "output_type": "stream",
     "text": [
      "hello.txt does not exists\n"
     ]
    }
   ],
   "source": [
    "## checking file or directory exists or not \n",
    "import os \n",
    "path = \"hello.txt\"\n",
    "if os.path.exists(path):\n",
    "    print(path,\"exists\")\n",
    "else :\n",
    "    print(path,\"does not exists\")"
   ]
  },
  {
   "cell_type": "code",
   "execution_count": 11,
   "metadata": {},
   "outputs": [
    {
     "name": "stdout",
     "output_type": "stream",
     "text": [
      "True\n"
     ]
    }
   ],
   "source": [
    "if os.path.exists(\"example.txt\"):\n",
    "    print(True)\n",
    "else:\n",
    "    print(False)\n"
   ]
  },
  {
   "cell_type": "code",
   "execution_count": 15,
   "metadata": {},
   "outputs": [
    {
     "name": "stdout",
     "output_type": "stream",
     "text": [
      "It is directory \n"
     ]
    }
   ],
   "source": [
    "## checking if a path is file or directory \n",
    "path = \"package\"\n",
    "if os.path.isfile(path):\n",
    "    print(\"It is a file \")\n",
    "elif os.path.isdir(path):\n",
    "    print(\"It is directory \")\n",
    "else :\n",
    "    print(\"Neither a path nor a directory\")"
   ]
  },
  {
   "cell_type": "code",
   "execution_count": 16,
   "metadata": {},
   "outputs": [
    {
     "name": "stdout",
     "output_type": "stream",
     "text": [
      "f:\\Udemy Course\\File Handling\\example.txt\n"
     ]
    }
   ],
   "source": [
    "## absolute path \n",
    "relative_path = \"example.txt\"\n",
    "absolute_path = os.path.abspath(relative_path)\n",
    "print(absolute_path)"
   ]
  },
  {
   "cell_type": "code",
   "execution_count": null,
   "metadata": {},
   "outputs": [],
   "source": []
  }
 ],
 "metadata": {
  "kernelspec": {
   "display_name": "base",
   "language": "python",
   "name": "python3"
  },
  "language_info": {
   "codemirror_mode": {
    "name": "ipython",
    "version": 3
   },
   "file_extension": ".py",
   "mimetype": "text/x-python",
   "name": "python",
   "nbconvert_exporter": "python",
   "pygments_lexer": "ipython3",
   "version": "3.11.4"
  }
 },
 "nbformat": 4,
 "nbformat_minor": 2
}
