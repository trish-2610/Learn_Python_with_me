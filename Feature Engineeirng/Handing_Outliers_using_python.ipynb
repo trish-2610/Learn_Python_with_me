{
 "cells": [
  {
   "cell_type": "markdown",
   "metadata": {},
   "source": [
    "## 5 Number Summary and Box-Plot"
   ]
  },
  {
   "cell_type": "code",
   "execution_count": 1,
   "metadata": {},
   "outputs": [],
   "source": [
    "## Minimum , Maximum , Median , Q1 , Q3 , IQR"
   ]
  },
  {
   "cell_type": "code",
   "execution_count": 2,
   "metadata": {},
   "outputs": [],
   "source": [
    "import numpy as np"
   ]
  },
  {
   "cell_type": "code",
   "execution_count": 10,
   "metadata": {},
   "outputs": [],
   "source": [
    "lst_marks = [37,34,56,78,66,45,90,98,98,65,23,12,45,67,86,99]\n",
    "minimum,Q1,Median,Q3,maximum = np.quantile(lst_marks,[0,0.25,0.50,0.75,1])"
   ]
  },
  {
   "cell_type": "code",
   "execution_count": 11,
   "metadata": {},
   "outputs": [
    {
     "name": "stdout",
     "output_type": "stream",
     "text": [
      "Minimum =  12.0\n",
      "Q1 =  43.0\n",
      "Median=  39.5\n",
      "Q3 =  87.0\n",
      "Maximum =  99.0\n"
     ]
    }
   ],
   "source": [
    "print(\"Minimum = \",minimum)\n",
    "print(\"Q1 = \",Q1)\n",
    "print(\"Median= \",median)\n",
    "print(\"Q3 = \",Q3)\n",
    "print(\"Maximum = \",maximum)"
   ]
  },
  {
   "cell_type": "code",
   "execution_count": 8,
   "metadata": {},
   "outputs": [],
   "source": [
    "numbers = list([12,34,56,32,45,24,45,78,98,76,34,23,55,34])\n",
    "max , min , median , q1 , q3 = np.quantile(numbers,[1,0,0.50,0.25,0.75])"
   ]
  },
  {
   "cell_type": "code",
   "execution_count": 9,
   "metadata": {},
   "outputs": [
    {
     "name": "stdout",
     "output_type": "stream",
     "text": [
      "Minimum =  12.0\n",
      "Q1 =  32.5\n",
      "Median=  39.5\n",
      "Q3 =  55.75\n",
      "Maximum =  98.0\n"
     ]
    }
   ],
   "source": [
    "print(\"Minimum = \",min)\n",
    "print(\"Q1 = \",q1)\n",
    "print(\"Median= \",median)\n",
    "print(\"Q3 = \",q3)\n",
    "print(\"Maximum = \",max)"
   ]
  },
  {
   "cell_type": "code",
   "execution_count": 12,
   "metadata": {},
   "outputs": [
    {
     "name": "stdout",
     "output_type": "stream",
     "text": [
      "44.0\n"
     ]
    }
   ],
   "source": [
    "## Inter Quartile Range - IQR\n",
    "IQR = Q3 - Q1 \n",
    "print(IQR)"
   ]
  },
  {
   "cell_type": "code",
   "execution_count": 13,
   "metadata": {},
   "outputs": [],
   "source": [
    "## calculating lower fence and higher fence to detect outliers in the dataset\n",
    "lower_fence = Q1 - 1.5*(IQR)\n",
    "higher_fence = Q3 + 1.5*(IQR)"
   ]
  },
  {
   "cell_type": "code",
   "execution_count": 14,
   "metadata": {},
   "outputs": [
    {
     "name": "stdout",
     "output_type": "stream",
     "text": [
      "-23.0\n",
      "153.0\n"
     ]
    }
   ],
   "source": [
    "print(lower_fence)\n",
    "print(higher_fence)"
   ]
  },
  {
   "cell_type": "code",
   "execution_count": 15,
   "metadata": {},
   "outputs": [],
   "source": [
    "## So any value below -23 and any value above 153 will be considered as an outlier "
   ]
  },
  {
   "cell_type": "code",
   "execution_count": 19,
   "metadata": {},
   "outputs": [
    {
     "data": {
      "text/plain": [
       "<Axes: >"
      ]
     },
     "execution_count": 19,
     "metadata": {},
     "output_type": "execute_result"
    },
    {
     "data": {
      "image/png": "[encoded data removed]",
      "text/plain": [
       "<Figure size 640x480 with 1 Axes>"
      ]
     },
     "metadata": {},
     "output_type": "display_data"
    }
   ],
   "source": [
    "import seaborn as sns \n",
    "lst_marks = [37,34,56,78,66,45,90,98,98,65,23,12,45,67,86,99]\n",
    "sns.boxplot(lst_marks)\n",
    "## No outliers in the dataset"
   ]
  },
  {
   "cell_type": "code",
   "execution_count": 21,
   "metadata": {},
   "outputs": [
    {
     "data": {
      "text/plain": [
       "<Axes: >"
      ]
     },
     "execution_count": 21,
     "metadata": {},
     "output_type": "execute_result"
    },
    {
     "data": {
      "image/png": "[encoded data removed]",
      "text/plain": [
       "<Figure size 640x480 with 1 Axes>"
      ]
     },
     "metadata": {},
     "output_type": "display_data"
    }
   ],
   "source": [
    "## adding outliers in the dataset \n",
    "lst_marks = [-27,-29,-67,37,34,56,78,66,45,90,98,98,65,23,12,45,67,86,99,190,187,167,297,197]\n",
    "sns.boxplot(lst_marks)"
   ]
  },
  {
   "cell_type": "code",
   "execution_count": null,
   "metadata": {},
   "outputs": [],
   "source": []
  }
 ],
 "metadata": {
  "kernelspec": {
   "display_name": "Python 3",
   "language": "python",
   "name": "python3"
  },
  "language_info": {
   "codemirror_mode": {
    "name": "ipython",
    "version": 3
   },
   "file_extension": ".py",
   "mimetype": "text/x-python",
   "name": "python",
   "nbconvert_exporter": "python",
   "pygments_lexer": "ipython3",
   "version": "3.11.1"
  }
 },
 "nbformat": 4,
 "nbformat_minor": 2
}
